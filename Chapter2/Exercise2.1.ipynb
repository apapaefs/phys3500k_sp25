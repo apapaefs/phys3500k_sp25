{
 "cells": [
  {
   "cell_type": "markdown",
   "id": "93faeadd-4853-4ba8-838b-c1bdc6377417",
   "metadata": {},
   "source": [
    "# Exercise 2.1: From double precision to binary IEEE754 \n",
    "\n",
    "(a) Write a function that converts a positive integer or a positive float to the binary representation. Floats should be in a 52-bit representation and integers in 11 bits.  \n",
    "\n",
    "To convert integer to binary, start with the integer in question and divide it by 2 keeping notice of the quotient and the remainder. Continue dividing the quotient by 2 until you get a quotient of zero. Then just write out the remainders in the reverse order.\n",
    "\n",
    "Here is an example of such conversion using the integer 12.\n",
    "\n",
    "First, let’s divide the number by two specifying quotient and remainder:\n",
    "\n",
    "12/2 = 6 + remainder 0\n",
    "\n",
    "6/2 = 3 + remainder 0\n",
    "\n",
    "3/2 = 1 + remainder 1\n",
    "\n",
    "1/2 = 0 + remainder 1\n",
    "\n",
    "Now, we simply need to write out the remainder in the reverse order — 1100. So, 12 in decimal system is represented as 1100 in binary.\n",
    "\n",
    "To convert fraction to binary, start with the fraction in question and multiply it by 2 keeping notice of the resulting integer and fractional part. Continue multiplying by 2 until you get a resulting fractional part equal to zero. Then just write out the integer parts from the results of each multiplication.\n",
    "Here is an example of such conversion using the fraction 0.375:\n",
    "\n",
    "0.375 * 2 = 0 + 0.75 \n",
    "\n",
    "0.75 * 2 = 1 + 0.5\n",
    "\n",
    "0.5 * 2 = 1 + 0\n",
    "\n",
    "Now, let’s just write out the resulting integer part at each step: 011. So, 0.375 in decimal system is represented as 011 in binary.\n",
    "\n",
    "(b) Test your function from part (a) for the numbers 31, 1031, 0.253, 0.28.\n",
    "\n",
    "(c) Write a function that takes as input any double and converts it to the binary IEEE754 representation. Make sure you use the format of the examples given in the lecture notes!\n",
    "\n",
    "Here is the algorithm again for the conversion: \n",
    "\n",
    "A 64-bit (double precision) float can then be represented in decimal (base 10) by the formula:\n",
    "\n",
    "$n= (-1)^s\\times 2^{e-1023} \\times (1+f)$\n",
    "\n",
    "Our goal is to find $e$ (the exponent) and $f$, and convert them to binary. The format should then be:\n",
    "\n",
    "sign (1 bit) exponent (11 bits) float (52 bits)\n",
    "\n",
    "The sign bit is either 0 (positive $n$) or 1 (negative $n$). \n",
    "\n",
    "To find $e$, we find the largest power of $2$ that yields a number smaller than $|n|$. E.g. if we are aiming for $n=-300.1$, then $2^8=256$ is smaller than $|n|=300.1$, and therefore $8=e-1023$ and $e=1031$. \n",
    "\n",
    "To find $f$, we then need to divide $|n|$ by $2^{e-1031}$ and subtract 1:\n",
    "\n",
    "$f = |n|/2^{e-1031} - 1$. \n",
    "\n",
    "\n",
    "(d) Test it for the numbers: 15.0, -12.0, 27.2, -300.1. \n"
   ]
  },
  {
   "cell_type": "code",
   "execution_count": null,
   "id": "584f0de3-aa48-4eea-b08d-313665613258",
   "metadata": {},
   "outputs": [],
   "source": []
  }
 ],
 "metadata": {
  "kernelspec": {
   "display_name": "Python 3 (ipykernel)",
   "language": "python",
   "name": "python3"
  },
  "language_info": {
   "codemirror_mode": {
    "name": "ipython",
    "version": 3
   },
   "file_extension": ".py",
   "mimetype": "text/x-python",
   "name": "python",
   "nbconvert_exporter": "python",
   "pygments_lexer": "ipython3",
   "version": "3.12.7"
  }
 },
 "nbformat": 4,
 "nbformat_minor": 5
}
