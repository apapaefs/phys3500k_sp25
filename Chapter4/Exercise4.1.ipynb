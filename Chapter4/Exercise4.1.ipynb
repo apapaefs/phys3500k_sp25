{
 "cells": [
  {
   "cell_type": "markdown",
   "id": "fdc40624-791e-43c3-af4b-b996643407b0",
   "metadata": {},
   "source": [
    "# Exercise 4.1: The expression for the period $T$ of a *realistic pendulum*, for which the maximum angle of displacement is $\\theta_0$, when $\\theta_0$ is not necessarily small, is given by:\n",
    "\n",
    "$T = \\frac{T_0}{\\pi} \\int_0^{\\theta_0} \\frac{ \\mathrm{d} \\theta } { [\\sin^2 (\\theta_0/2) - \\sin^2 (\\theta/2)]^{1/2}}$,\n",
    "\n",
    "where $T_0$ is the period for small-angle oscillations. \n",
    "\n",
    "By expanding the denominator and integrating it term-by-term, we can obtain a series expansion for the period:\n",
    "\n",
    "$T \\simeq T_0 \\left[ 1 + \\left(\\frac{1}{2}\\right)^2 \\sin^2 \\frac{\\theta_0}{2} + \\left( \\frac{1 \\cdot 3}{2 \\cdot 4}\\right)^2 \\sin^4 \\frac{\\theta_0}{2} + \\left( \\frac{1 \\cdot 3 \\cdot 5}{2 \\cdot 4 \\cdot 6}\\right)^2 \\sin^6 \\frac{\\theta_0}{2} ...\\right]$.\n",
    "\n",
    "The expansion tells us e.g. that an amplitude $\\theta_0 = 80^\\circ$ leads to a 10\\% slowdown of the pendulum relative to the small $\\theta$ result. \n",
    "\n",
    "We will determine the period computationally, without the need for any expansions. \n",
    "\n",
    "(a) Use numerical quadrature to determine the ratio $T/T_0$ for six values of $\\theta_0$ in the interval $[0,\\pi/2]$. Show that you have attained at least four places of accuracy by progressively increasing the number of integration points until changes occur only in the fifth place or beyond. \n",
    "\n",
    "(b) Use the power series to determine $T/T_0$. Continue summing terms until changes in the sum occur only in the fifth place, or beyond. \n",
    "\n",
    "(c) Plot the values you obtained for $T/T_0$ vs. $\\theta_0$ for both the integral and power series solution. \n",
    "\n",
    "BONUS 10%:\n",
    "\n",
    "(d) Use Scipy's ```scipy.integrate.quad``` to perform the integral at the same values. Plot these as well as a third answer."
   ]
  },
  {
   "cell_type": "code",
   "execution_count": null,
   "id": "a4005a0c-92ec-42fd-804a-6a95c09a973b",
   "metadata": {},
   "outputs": [],
   "source": []
  }
 ],
 "metadata": {
  "kernelspec": {
   "display_name": "Python 3 (ipykernel)",
   "language": "python",
   "name": "python3"
  },
  "language_info": {
   "codemirror_mode": {
    "name": "ipython",
    "version": 3
   },
   "file_extension": ".py",
   "mimetype": "text/x-python",
   "name": "python",
   "nbconvert_exporter": "python",
   "pygments_lexer": "ipython3",
   "version": "3.12.7"
  }
 },
 "nbformat": 4,
 "nbformat_minor": 5
}
