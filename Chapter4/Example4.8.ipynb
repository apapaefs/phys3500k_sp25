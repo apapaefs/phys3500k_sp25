{
 "cells": [
  {
   "cell_type": "markdown",
   "id": "b33c85d6-4269-45e8-8717-80f8fea4df16",
   "metadata": {},
   "source": [
    "### Example 4.8: Construct a function that implements Simpson's rule on an interval $[a,b]$ using $N$ points ($N$ is odd!), and use to integrate $f(x) = \\exp(-t)$ in the interval $[0,1]$. \n",
    "\n",
    "- Check that your sum of weights agrees with $\\sum_{i=1}^N w_i = (N-1)h$!\n",
    "- Compare to the analytic value for $N=2001$ points.\n",
    "- Also compare to the result obtained in Example 4.7 using the trapezoid rule and $N=10^6$ points. "
   ]
  },
  {
   "cell_type": "code",
   "execution_count": 1,
   "id": "f2fb8f3f-cf83-4790-bec6-52689052c203",
   "metadata": {},
   "outputs": [
    {
     "name": "stdout",
     "output_type": "stream",
     "text": [
      "Check of sum of weights= 1.0\n",
      "Integral of exp(-t) in [0,1] via Simpson's rule= 0.6321205588285581\n",
      "Analytic integral= 0.6321205588285577\n",
      "Fractional error= 7.025387857548033e-16\n"
     ]
    }
   ],
   "source": [
    "import math\n",
    "import numpy as np\n",
    "\n",
    "# Let's write a higher-order function that implements Simpson's rule:\n",
    "def simpson(func, a, b, N):\n",
    "    \"\"\"Calculates the numerical integral of a function in the interval a,b using Simpson's rule for N points\"\"\"\n",
    "    # throw error if N is not even:\n",
    "    if N%2 == 0:\n",
    "        N = N + 1\n",
    "    # calculate the width:\n",
    "    h = (b - a)/(N-1)\n",
    "    # apply Simpson's rule: \n",
    "    # create the weights array:\n",
    "    wis = [h/3]\n",
    "    # append N-2 weights \n",
    "    for i in range(0,int((N-2)/2)):\n",
    "        wis.append(4*h/3)\n",
    "        wis.append(2*h/3)\n",
    "    wis.append(4*h/3)\n",
    "    wis.append(h/3)\n",
    "    print('Check of sum of weights=', np.sum(wis))\n",
    "    # now use the general formula to get the integral:\n",
    "    integral = 0\n",
    "    for j, wj in enumerate(wis):\n",
    "        integral = integral + wj * func(a+j*h)\n",
    "    return integral\n",
    "\n",
    "# test the function for exp(-t) in [0,1]:\n",
    "# first define the function we wish to integrate: \n",
    "def f(x):\n",
    "    return math.exp(-x)\n",
    "N = 2001# the number of points\n",
    "simp_int = simpson(f,0,1,N)\n",
    "print(\"Integral of exp(-t) in [0,1] via Simpson's rule=\", simp_int)\n",
    "\n",
    "# the analytic integral is simply 1 - exp(-1):\n",
    "analytic_int = 1-math.exp(-1)\n",
    "print('Analytic integral=', analytic_int)\n",
    "\n",
    "# compare by calculating the fractional error:\n",
    "print('Fractional error=', abs( (simp_int-analytic_int)/analytic_int ) )\n"
   ]
  },
  {
   "cell_type": "code",
   "execution_count": null,
   "id": "6e128942-8164-48a5-9c5a-bf5dba611ef6",
   "metadata": {},
   "outputs": [],
   "source": []
  }
 ],
 "metadata": {
  "kernelspec": {
   "display_name": "Python 3 (ipykernel)",
   "language": "python",
   "name": "python3"
  },
  "language_info": {
   "codemirror_mode": {
    "name": "ipython",
    "version": 3
   },
   "file_extension": ".py",
   "mimetype": "text/x-python",
   "name": "python",
   "nbconvert_exporter": "python",
   "pygments_lexer": "ipython3",
   "version": "3.11.11"
  }
 },
 "nbformat": 4,
 "nbformat_minor": 5
}
