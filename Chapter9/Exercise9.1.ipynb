{
 "cells": [
  {
   "cell_type": "markdown",
   "id": "3fa8b764-420b-4405-985d-ff169446ceb2",
   "metadata": {},
   "source": [
    "# Exercise 9.1: The Wave Equation in Cylindrical Geometry\n",
    "\n",
    "The wave equation in cylindrical geometry often leads to the eigenvalue problem:\n",
    "\n",
    "$\\left( \\frac{ \\mathrm{d}^2 } { \\mathrm{d} r^2 } + \\frac{1}{r} \\frac{ \\mathrm{d}}{\\mathrm{d} r} \\right) \\Phi(r) = -k^2 \\Phi(r)$,\n",
    "\n",
    "with initial conditions $\\Phi(r=0) = 1$ and $\\Phi(r=1) = 0$. \n",
    "\n",
    "The analytical eigenfunctions are the regular cylindrical Bessel functions of order zero, and the eigenvalues correspond to the zeros of this function: \n",
    "\n",
    "$k_1 = 2.404826$, $k_2 = 5.520078$, $k_3 = 8.653728$, $k_4 = 11.791534$, ...\n",
    "\n",
    "(a) Show that the substitution $\\Phi = r^{-1/2} \\phi$ changes this equation into one for which the Numerov algorithm is appropriate. \n",
    "\n",
    "(b) Modify the code given in Example 9.7 to solve this problem. Compare the numerical eigenvalues with the exact values. Note that you will not be able to start the integration at $r=0$. Try starting at e.g. $r=10^{-13}$, with integration step size $h=10^{-5}$. \n",
    "\n",
    "Note that you should expect $\\mathcal{O}(\\%)$ precision, but not better."
   ]
  },
  {
   "cell_type": "markdown",
   "id": "75d67bbc-b73f-4741-9a0d-c702047d662a",
   "metadata": {},
   "source": []
  }
 ],
 "metadata": {
  "kernelspec": {
   "display_name": "Python 3 (ipykernel)",
   "language": "python",
   "name": "python3"
  },
  "language_info": {
   "codemirror_mode": {
    "name": "ipython",
    "version": 3
   },
   "file_extension": ".py",
   "mimetype": "text/x-python",
   "name": "python",
   "nbconvert_exporter": "python",
   "pygments_lexer": "ipython3",
   "version": "3.11.11"
  }
 },
 "nbformat": 4,
 "nbformat_minor": 5
}
