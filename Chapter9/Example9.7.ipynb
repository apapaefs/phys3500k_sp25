{
 "cells": [
  {
   "cell_type": "markdown",
   "id": "89dafdf2-c0a1-47e4-9386-c1ee5e92993c",
   "metadata": {},
   "source": [
    "## Example 9.7: Find the lowest eigenvalue of the stretched string problem by employing the shooting method described above. \n",
    "\n",
    "Start your search at $k=1$ and terminate the search when the eigenvalue is determined within a precision of $10^{-5}$."
   ]
  },
  {
   "cell_type": "markdown",
   "id": "a1cd78f6-47eb-4fba-a427-65877db7fcc7",
   "metadata": {},
   "source": [
    "Solution: \n",
    "\n",
    "We will employ the Numerov method from Example 9.1, which takes as input the initial value of the function and its derivative. We will set $\\delta = 1$ to obtain the initial conditions: \n",
    "\n",
    "$\\phi(x=0) = 0$ and $\\phi'(x=0) = 1$."
   ]
  },
  {
   "cell_type": "code",
   "execution_count": 12,
   "id": "90ef41ed-1f2d-4ade-8538-6c52779da784",
   "metadata": {},
   "outputs": [],
   "source": [
    "import numpy as np\n",
    "import math\n",
    "\n",
    "# Numerov's algorithm (forward)\n",
    "# takes as input the initial conditions y(0) and y'(0) as y0 and yp0\n",
    "# h is the step size, the k-squared term (k2), the S term -- these are FUNCTIONS!\n",
    "# the initial value of the independent variable x0, and the final value xf\n",
    "# returns t,y as the solution arrays\n",
    "def Numerov(k2, S, y0, yp0, h, x0, xf):\n",
    "    \"\"\"Returns the solution to a 2nd-order ODEs of the type: y'' + k^2 y = S(x) via the Numerov algorithm\"\"\"\n",
    "    # the number of steps:\n",
    "    N = int( (xf-x0)/h ) # needs to be an integer\n",
    "    # get y1 via Taylor series:\n",
    "    y1 = y0 + h * yp0\n",
    "    # define the numpy arrays to return\n",
    "    ya = np.zeros(N+1)\n",
    "    xa = np.zeros(N+1)\n",
    "    # set the first two values of the arrays:\n",
    "    ya[0] = y0\n",
    "    ya[1] = y1\n",
    "    xa[0] = x0\n",
    "    xa[1] = x0 + h\n",
    "    # integrate via the Numerov algo:\n",
    "    for n in range(1,N):\n",
    "        x = x0 + n*h\n",
    "        xa[n]=x\n",
    "        h2dt = h**2/12 # appears often so let's just calculate it once!\n",
    "        ya[n+1] = (2 * (1 - 5*h2dt * k2(x)) * ya[n] - (1 + h2dt *k2(x-h)) * ya[n-1] + h2dt*(S(x+h) + 10 * S(x) + S(x-h)))/((1 + h2dt * k2(x+h) ))    \n",
    "    xa[N] = xf # set the last x value which is not set in the loop\n",
    "    return xa,ya"
   ]
  },
  {
   "cell_type": "markdown",
   "id": "0f439b65-da88-438e-9ac3-29f1b3fec283",
   "metadata": {},
   "source": [
    "We can use the SciPy bisection function, but let's copy our bisection method from Chapter 6: "
   ]
  },
  {
   "cell_type": "code",
   "execution_count": 8,
   "id": "8566916a-5edd-4efe-b3a9-d6ff45e5ab23",
   "metadata": {},
   "outputs": [],
   "source": [
    "# The bisection algorithm: \n",
    "# func should be a function for which we are trying to find the solution, in the form f(x)=0\n",
    "# xmin and xmax should enclose the root (the function must change signs from xmin to xmax)\n",
    "# Nmax is the number of evaluations\n",
    "# prec is the required precision\n",
    "def bisection(func, xmin, xmax, Nmax, prec): \n",
    "    \"\"\"Function that implements the bisection algorithm for root finding\"\"\"\n",
    "    n = 0 # number of steps taken\n",
    "    val = 1E99 # the value of the equation, initialize to a large number\n",
    "    root = math.nan # initialize the root to \"not a number\"\n",
    "    while abs(val) > prec and n < Nmax: # loop terminates either when the max number of evals is reached or the precision is reached\n",
    "        # get the equation values at the edges [xmin, xmax], \n",
    "        # and at the bisection point: \n",
    "        val = func((xmin+xmax)/2)\n",
    "        valmax = func(xmax)\n",
    "        valmin = func(xmin)\n",
    "        # figure out in which of the two intervals there's a sign change:\n",
    "        if val * valmax < 0: # sign change between bisection-xmax, set minimum to bisection\n",
    "            xmin = (xmin+xmax)/2\n",
    "        elif val * valmin < 0: # sign change between xmin-bisection, set max to bisection\n",
    "            xmax = (xmin+xmax)/2\n",
    "        n = n + 1\n",
    "    if n > Nmax-1:\n",
    "        print(\"Warning: maximum number of evaluations exceeded:\", Nmax)\n",
    "    root = (xmin+xmax)/2\n",
    "    return root, n"
   ]
  },
  {
   "cell_type": "markdown",
   "id": "e526ebff-523a-4073-a8df-c04810ccfd48",
   "metadata": {},
   "source": [
    "We now need to write a function that takes as input the eigenvalue estimate $k$ yields $\\phi(1)$.\n",
    "\n",
    "We will then put that function through our bisection algorithm to get the eigenvalue estimate!"
   ]
  },
  {
   "cell_type": "code",
   "execution_count": 51,
   "id": "3f4a645c-cfec-46f3-9caf-f9719e0188b9",
   "metadata": {},
   "outputs": [],
   "source": [
    "# This function takes as input kest and yields phi(1) using the Numerov method\n",
    "# It will form the input to our bisection search\n",
    "def phi1(k):\n",
    "    \"\"\"Function that takes as input kest and yields phi(1) using the Numerov method\"\"\"\n",
    "    # Numerov(k2, S, y0, yp0, h, x0, xf) <- function for reference \n",
    "    # you can define separate functions for k2 and S, but we can use the lambda method for brevity:\n",
    "    x,y = Numerov(lambda x: k**2, lambda x: 0, 0, 1, 1E-2, 0, 1)\n",
    "    return y[-1] # we only need the last element -> phi(1)"
   ]
  },
  {
   "cell_type": "markdown",
   "id": "d1775587-6371-4782-949d-5c37f23a6fbf",
   "metadata": {},
   "source": [
    "Test the function: "
   ]
  },
  {
   "cell_type": "code",
   "execution_count": 52,
   "id": "b50e0a0e-cd44-4109-bf8e-4ebed0b971f7",
   "metadata": {},
   "outputs": [
    {
     "name": "stdout",
     "output_type": "stream",
     "text": [
      "0.8414850094813284\n",
      "-2.029662520774451e-09\n"
     ]
    }
   ],
   "source": [
    "print(phi1(1.)) # this should be non-zero!\n",
    "print(phi1(np.pi)) # This should be close to zero! pi is an eigenvalue  "
   ]
  },
  {
   "cell_type": "markdown",
   "id": "bd92a4f5-b006-4baf-b39f-94ca37a314b7",
   "metadata": {},
   "source": [
    "Now let's call the bisection function with ```func``` being ```phi1(k)``` and the search starting at 1 and ending at above $\\pi$ (where we expect the eigenvalue to be!)."
   ]
  },
  {
   "cell_type": "code",
   "execution_count": 53,
   "id": "e13d2c2e-033a-41d7-81ad-8d47dbc04c32",
   "metadata": {},
   "outputs": [
    {
     "name": "stdout",
     "output_type": "stream",
     "text": [
      "3.1416365078949573\n"
     ]
    }
   ],
   "source": [
    "Nmax = 10000\n",
    "prec = 1E-5\n",
    "keigen, niter = bisection(phi1, 1, np.pi*1.5, Nmax, prec)\n",
    "print(keigen)"
   ]
  },
  {
   "cell_type": "markdown",
   "id": "63e2204e-91ab-4196-80ad-842fb0b113d6",
   "metadata": {},
   "source": [
    "Is this close to pi? "
   ]
  },
  {
   "cell_type": "code",
   "execution_count": 54,
   "id": "eae211cb-d93a-4960-b560-fba4f9d3b6a3",
   "metadata": {},
   "outputs": [
    {
     "name": "stdout",
     "output_type": "stream",
     "text": [
      "Fractional difference from pi= 1.395925888547985e-05\n"
     ]
    }
   ],
   "source": [
    "print('Fractional difference from pi=', np.abs(keigen-np.pi)/np.pi)"
   ]
  },
  {
   "cell_type": "markdown",
   "id": "fa391e52-7d74-4059-b043-72413754c046",
   "metadata": {},
   "source": [
    "Indeed, this is pi within the desired precision! "
   ]
  },
  {
   "cell_type": "code",
   "execution_count": null,
   "id": "7060d8af-62bc-48df-a918-9453ceab127a",
   "metadata": {},
   "outputs": [],
   "source": []
  }
 ],
 "metadata": {
  "kernelspec": {
   "display_name": "Python 3 (ipykernel)",
   "language": "python",
   "name": "python3"
  },
  "language_info": {
   "codemirror_mode": {
    "name": "ipython",
    "version": 3
   },
   "file_extension": ".py",
   "mimetype": "text/x-python",
   "name": "python",
   "nbconvert_exporter": "python",
   "pygments_lexer": "ipython3",
   "version": "3.12.2"
  }
 },
 "nbformat": 4,
 "nbformat_minor": 5
}
