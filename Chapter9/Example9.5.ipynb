{
 "cells": [
  {
   "cell_type": "markdown",
   "id": "ad8545fd-eebd-4191-8a7a-d84213590bde",
   "metadata": {},
   "source": [
    "## Example 9.5: A Simple Analytical Green's Function Problem\n",
    "\n",
    "Solve the equation:\n",
    "\n",
    "$\\frac{ \\mathrm{d}^2 y }  { \\mathrm{d} x^2 } + y = S(x)$, \n",
    "\n",
    "with boundary conditions $y(0) = y(\\pi/2) = 0$, using the Green's function method. "
   ]
  },
  {
   "cell_type": "markdown",
   "id": "d699d67e-b5fe-4d28-a7d4-ac2ae483ba9c",
   "metadata": {},
   "source": [
    "Solution: \n",
    "\n",
    "The Green function satisfies: \n",
    "\n",
    "$\\frac{ \\mathrm{d}^2 G(x,x') }  { \\mathrm{d} x^2 } + G(x',x') = \\delta(x-x')$,\n",
    "\n",
    "and the boundary conditions: \n",
    "\n",
    "$G(0,x') = G(\\pi/2, x') = 0$. \n",
    "\n",
    "Then, the solution will be given by:\n",
    "\n",
    "$y(x) = \\int_0^{\\pi/2} G(x,x') S(x') \\mathrm{d} x'$. \n",
    "\n",
    "For $x\\neq x'$, $G(x,x')$ satisfies the homogeneous equation: \n",
    "\n",
    "$\\frac{ \\mathrm{d}^2 G(x,x') }  { \\mathrm{d} x^2 } + G(x',x') = 0$,\n",
    "\n",
    "We already know the two solutions to this equation: $\\sin x$ and $\\cos x$. The first satisfies $\\sin x=0$ at $x=0$ and the latter $\\cos x =0$ at $\\pi/2$.  \n",
    "\n",
    "Therefore, the Green function can be written as:\n",
    "\n",
    "$G(x,x') = \n",
    "\\begin{cases}\n",
    "A(x') \\sin x & \\quad \\text{if $x < x'$;}\\\\ \n",
    "B(x') \\cos x & \\quad \\text{if $x > x'$;}\n",
    "\\end{cases}\n",
    "$\n",
    "\n",
    "The Green function must be continuous at $x=x'$, and its derivative has to be discontinuous by 1 there. \n",
    "\n",
    "Therefore: \n",
    "\n",
    "$A(x') \\sin x' = B(x') \\cos x'$,\n",
    "\n",
    "and:\n",
    "\n",
    "$- B(x') \\sin x' -A(x') \\cos x'  = 1$.\n",
    "\n",
    "Solving these, we obtain: $A(x') = - \\cos x'$ and $B(x') = - \\sin x'$. \n",
    "\n",
    "and therefore: \n",
    "\n",
    "$G(x,x') = \n",
    "\\begin{cases}\n",
    "-\\cos x' \\sin x & \\quad \\text{if $x < x'$;}\\\\ \n",
    "-\\sin x' \\cos x & \\quad \\text{if $x > x'$;}\n",
    "\\end{cases}\n",
    "$\n",
    "\n",
    "Plugging back into $y(x)$, we obtain the solution:\n",
    "\n",
    "$y(x) = - \\cos x \\int_0^x \\sin x' S(x') \\mathrm{d} x' - \\sin x \\int_x^{\\pi/2} \\cos x' S(x') \\mathrm{d}x'$. \n",
    "\n",
    "This is as far as we can get without specifying the source term, $S(x')$.\n",
    "\n"
   ]
  },
  {
   "cell_type": "code",
   "execution_count": null,
   "id": "6ac58126-42ae-463d-b9cd-dce420edfe56",
   "metadata": {},
   "outputs": [],
   "source": []
  }
 ],
 "metadata": {
  "kernelspec": {
   "display_name": "Python 3 (ipykernel)",
   "language": "python",
   "name": "python3"
  },
  "language_info": {
   "codemirror_mode": {
    "name": "ipython",
    "version": 3
   },
   "file_extension": ".py",
   "mimetype": "text/x-python",
   "name": "python",
   "nbconvert_exporter": "python",
   "pygments_lexer": "ipython3",
   "version": "3.12.2"
  }
 },
 "nbformat": 4,
 "nbformat_minor": 5
}
