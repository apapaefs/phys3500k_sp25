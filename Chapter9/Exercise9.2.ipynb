{
 "cells": [
  {
   "cell_type": "markdown",
   "id": "5b8bb84a-0082-4819-a37a-5e6633c6d0de",
   "metadata": {},
   "source": [
    "# Example 9.2: The Quantum Mechanical Finite Square Well\n",
    "\n",
    "The goal of this problem is to calculate the eigenvalues of the quantum-mechanical finite square well, first examined in Exercise 1.2. This time we will use the \"shooting method\". \n",
    "\n",
    "The potential is given by: \n",
    "\n",
    "$$\n",
    "V(x)=\n",
    "\\begin{cases}\n",
    "-V_0& \\quad \\text{if $-a \\leq x \\leq a$;}\\\\ \n",
    "0& \\quad \\text{if $|x| > a$.}\\\\ \n",
    "\\end{cases}\n",
    "$$\n",
    "\n",
    "and the time-independent Schrödinger equation for this potential is then given by: \n",
    "\n",
    "$\\frac{-\\hbar^2}{2m} \\frac{ \\mathrm{d}^2}{\\mathrm{d}x^2} \\psi(x) + V(x)\\psi(x) = E\\psi(x)$.\n",
    "\n",
    "If we rescale the $x$ coordinate by a physical length $a$, we can rewrite this as: \n",
    "\n",
    "$\\frac{-\\hbar^2}{2ma^2} \\frac{ \\mathrm{d}^2}{\\mathrm{d}x^2} \\psi(x) + V(x)\\psi(x) = E\\psi(x)$.\n",
    "\n",
    "We can then divide LHS and RHS by $V_0$: \n",
    "\n",
    "$\\frac{-\\hbar^2}{2ma^2 V_0} \\frac{ \\mathrm{d}^2}{\\mathrm{d}x^2} \\psi(x) + \\frac{V(x)}{V_0} \\psi(x)= \\frac{E}{V_0}\\psi(x)$,\n",
    "\n",
    "to reach the form: \n",
    "\n",
    "$\\left[-\\frac{1}{z_0^2}  \\frac{ \\mathrm{d}^2}{\\mathrm{d}x^2} + v(x) - \\epsilon\\right] \\psi(x) = 0$,\n",
    "\n",
    "where\n",
    "\n",
    "$\n",
    "z_0^2 = \\frac{2 m a^2 V_0}{\\hbar^2}\\;,\n",
    "$\n",
    "\n",
    "which characterizes the \"depth\" of the well.\n",
    "\n",
    "The rescaled potential is:\n",
    " \n",
    "$$\n",
    "v(x)=\n",
    "\\begin{cases}\n",
    "-1& \\quad \\text{if $-1 \\leq x \\leq 1$;}\\\\ \n",
    "0& \\quad \\text{if $|x| > 1$.}\\\\ \n",
    "\\end{cases}\n",
    "$$\n",
    "\n",
    "and the dimensionless energy is $\\epsilon = E/V_0$. \n",
    "\n",
    "(a) Find all the eigenvalues for $z_0 = 1$ and $z_0 = 8$. For the $z_0=8$ case, switch to the Newton-Raphson method, using initial values close to the expected eigenvalue. \n",
    "\n",
    "(b) Plot the *normalized* $z_0=1$ wave function. There's only one, and it's even!\n",
    "\n",
    "(c) Plot the *normalized* $z_0=8$ wave functions. \n",
    "\n",
    "Remember to enforce the wave function continuity condition at $x=-1$!"
   ]
  },
  {
   "cell_type": "code",
   "execution_count": null,
   "id": "796be3f8-c1b5-4d4e-8e88-fff80fd4aa8f",
   "metadata": {},
   "outputs": [],
   "source": []
  }
 ],
 "metadata": {
  "kernelspec": {
   "display_name": "Python 3 (ipykernel)",
   "language": "python",
   "name": "python3"
  },
  "language_info": {
   "codemirror_mode": {
    "name": "ipython",
    "version": 3
   },
   "file_extension": ".py",
   "mimetype": "text/x-python",
   "name": "python",
   "nbconvert_exporter": "python",
   "pygments_lexer": "ipython3",
   "version": "3.12.2"
  }
 },
 "nbformat": 4,
 "nbformat_minor": 5
}
