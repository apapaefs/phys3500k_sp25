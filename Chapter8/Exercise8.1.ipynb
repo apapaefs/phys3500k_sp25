{
 "cells": [
  {
   "cell_type": "markdown",
   "id": "35aca450-4d5d-43d8-9287-7f15d857fbb0",
   "metadata": {},
   "source": [
    "# Exercise 8.1: Chaos on a Strange Attractor\n",
    "\n",
    "Lorenz used numerical integration to see what the trajectories would do in the long run. \n",
    "\n",
    "He studied the particular case: $\\sigma = 10$, $b=8/3$, $r=28$. In what follows, we will also study the same parameters. \n",
    "\n",
    "The value of $r$ is just above the value of $r_H = \\sigma(\\sigma + b + 3)/(\\sigma - b - 1) \\simeq 24.74$. \n",
    "\n",
    "He began integrating from the initial condition $(x_0, y_0, z_0) = (0, 1, 0)$ close to the saddle point at the origin. \n",
    "\n",
    "(a) Plot $y(t)$ from $t=0$, to $t=100$.\n",
    "\n",
    "You should see that after an initial transient, the solution settles into an irregular oscillation that persists as $t \\rightarrow \\infty$. \n",
    "\n",
    "(b) Lorenz discovered that a wonderful structure emerges if the solution is visualized as a trajectory in phase space.\n",
    "\n",
    "Plot the trajectory of your solution in the $(x,z)$ phase space. You should see a \"butterfly\" pattern appearing. The trajectory appears to cross itself repeatedly, but that's just an artifact of projecting the 3D trajectory onto a 2D plane: in 3D, there are no self-intersections. \n",
    "\n",
    "This is a strange attractor, an attracting set of zero volume. \n",
    "\n",
    "## Exponential Divergence of Nearby Trajectories\n",
    "\n",
    "The motion on the attractor exhibits a sensitive dependence on initial conditions. This means that two trajectories starting very close together will rapidly diverge from each other, and thereafter will have totally different futures. \n",
    " \n",
    "The practical implication is that long-term prediction becomes impossible in a system like this, where small uncertainties are amplified enormously fast. \n",
    "\n",
    "Suppose we let the transients decay, so that the trajectory is \"on\" the attractor. Suppose $\\mathbf{x}(t)$ is a point on the attractor at time $t$, and consider a nearby point, say $\\mathbf{x}(t) + \\mathbf{\\delta}(t)$, where $\\mathbf{\\delta}(t)$ is a tiny separation vector of initial length $|\\mathbf{\\delta_0}| \\sim 10^{-7}$. Now watch $\\mathbf{\\delta}(t)$ grow. In numerical studies of the Lorenz attractor, one finds that:\n",
    "\n",
    "$|\\mathbf{\\delta}(t)| \\sim | \\mathbf{\\delta_0} | e^{\\lambda t}$, where $\\lambda >0$. Hence neighboring trajectories separate exponentially fast. \n",
    "\n",
    "(c) Plot $\\log|\\mathbf{\\delta(t)}|$ versus $t$ and find the value of $\\lambda$, also known as the Liapunov exponent. Focus on the region $t=1$ to $t=15$ to perform your straight line fit. \n",
    "\n",
    "Note that the curve is never exactly straight. The strength of the exponential divergence varies somewhat along the attractor. Also note that the exponential divergence must stop when the separation is comparable to the \"diameter\" of the attractor. \n",
    "\n",
    "\n",
    "## The Lorenz Map\n",
    "\n",
    "(d) Lorenz found a beautiful way to analyze the dynamics on his strange attractor. He focused on $z_n$, the $n$-th *local maximum* of $z(t)$. \n",
    "\n",
    "Plot $z(t)$ versus $t$. \n",
    "\n",
    "(e) Lorenz had the idea that $z_n$ should predict $z_{n+1}$. \n",
    "\n",
    "Plot $z_{n+1}$ versus $z_n$. To find the maxima, you may use SciPy's functionality: \n",
    "\n",
    "```python\n",
    "import numpy as np\n",
    "from scipy.signal import argrelextrema\n",
    "\n",
    "# generate an array with 100 random numbers:\n",
    "x = np.random.random(100)\n",
    "\n",
    "# get the indices that correspond to the local maxima:\n",
    "maxima_indices = argrelextrema(x, np.greater)\n",
    "```\n",
    "\n",
    "The data from the chaotic time series appear to fall neatly on a curve, with almost no \"thickness to the graph\". \n",
    "\n",
    "The function $z_{n+1} = f(z_n)$ is now known as the *Lorenz map*. \n"
   ]
  },
  {
   "cell_type": "code",
   "execution_count": null,
   "id": "0fdbc4e4-4433-4d86-8656-968296b91f39",
   "metadata": {},
   "outputs": [],
   "source": []
  }
 ],
 "metadata": {
  "kernelspec": {
   "display_name": "Python 3 (ipykernel)",
   "language": "python",
   "name": "python3"
  },
  "language_info": {
   "codemirror_mode": {
    "name": "ipython",
    "version": 3
   },
   "file_extension": ".py",
   "mimetype": "text/x-python",
   "name": "python",
   "nbconvert_exporter": "python",
   "pygments_lexer": "ipython3",
   "version": "3.11.11"
  }
 },
 "nbformat": 4,
 "nbformat_minor": 5
}
