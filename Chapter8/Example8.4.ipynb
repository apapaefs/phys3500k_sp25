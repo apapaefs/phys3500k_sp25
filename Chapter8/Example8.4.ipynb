{
 "cells": [
  {
   "cell_type": "markdown",
   "id": "c37a331f-c7e2-4935-a601-4c6a61cf58b7",
   "metadata": {},
   "source": [
    "## Example 8.4: Solve the initial value problem $\\dot{x} = x + y$, $\\dot{y} = 4 x - 2y$ with initial condition $(x_0, y_0) = (2,-3)$. "
   ]
  },
  {
   "cell_type": "markdown",
   "id": "5c0eb696-685a-42b3-9793-fb7a804ad560",
   "metadata": {},
   "source": [
    "The corresponding matrix equation is: \n",
    "\n",
    "$\\left(\\matrix{\\dot{x}\\\\\\dot{y}}\\right)\\left(\\matrix{1 & 1\\\\ 4 & -2}\\right) \\left(\\matrix{x\\\\y}\\right)$.\n",
    "\n",
    "The eigenvalues of the matrix $A$ are given by the characteristic equation:\n",
    "\n",
    "$\\lambda^2 - \\lambda - 6 = 0$. \n",
    "\n",
    "Hence:\n",
    "\n",
    "$\\lambda_1 = 2$, $\\lambda_2 = -3$. \n",
    "\n",
    "To find the eigenvectors:\n",
    "\n",
    "$\\left(\\matrix{1-\\lambda & 1\\\\ 4 & -2-\\lambda}\\right) \\left(\\matrix{v_1\\\\ v_2}\\right) = \\left(\\matrix{0\\\\ 0}\\right) $.\n",
    "\n",
    "For $\\lambda_1 = 2$ this yields $\\left(\\matrix{v_1\\\\ v_2}\\right) = \\left(\\matrix{1\\\\ 1}\\right)$, and for $\\lambda_2 = -3$: $\\left(\\matrix{v_1\\\\ v_2}\\right) = \\left(\\matrix{1\\\\-4}\\right)$. \n",
    "\n",
    "Hence the general solution can be written as:\n",
    "\n",
    "$\\mathbf{x}(t) = c_1 \\left(\\matrix{1\\\\ 1}\\right) e^{2t} + c_2 \\left(\\matrix{1\\\\-4}\\right) e^{-3t}$. \n",
    "\n",
    "Finally, we compute $c_1$ and $c_2$ to satisfy the initial condition $(x_0, y_0) = (2, -3)$ at $t=0$, to get:\n",
    "\n",
    "$2 = c_1 + c_2$,\n",
    "\n",
    "$-3 = c_1 - 4 c_2$,\n",
    "\n",
    "which yields $c_1 = 1$ and $c_2 = 1$.\n",
    "\n",
    "Therefore, the solution to the initial value problem is:\n",
    "\n",
    "$ x(t) = e^{2t} + e^{-3t}$,\n",
    "\n",
    "$y(t)  = e^{2t} - 4 e^{-3t}$. \n",
    "\n",
    "Can you sketch the phase portrait? What kind of node appears at the origin?"
   ]
  },
  {
   "cell_type": "code",
   "execution_count": null,
   "id": "01e36e5f-607a-4dea-a2e0-9d90beaabdfd",
   "metadata": {},
   "outputs": [],
   "source": []
  }
 ],
 "metadata": {
  "kernelspec": {
   "display_name": "Python 3 (ipykernel)",
   "language": "python",
   "name": "python3"
  },
  "language_info": {
   "codemirror_mode": {
    "name": "ipython",
    "version": 3
   },
   "file_extension": ".py",
   "mimetype": "text/x-python",
   "name": "python",
   "nbconvert_exporter": "python",
   "pygments_lexer": "ipython3",
   "version": "3.11.7"
  }
 },
 "nbformat": 4,
 "nbformat_minor": 5
}
