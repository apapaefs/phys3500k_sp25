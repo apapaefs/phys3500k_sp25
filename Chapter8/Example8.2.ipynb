{
 "cells": [
  {
   "cell_type": "markdown",
   "id": "0ab5115c-fe7f-40b0-a7da-48c0464217a2",
   "metadata": {},
   "source": [
    "## Example 8.2: Use linearization to determine the stability of the fixed points for $\\dot{x} = \\sin x$. "
   ]
  },
  {
   "cell_type": "markdown",
   "id": "7e3ec35a-4254-4a47-abcd-89495bf69f08",
   "metadata": {},
   "source": [
    "The fixed points occur when $f(x^*)= \\sin x^* = 0$. thus $x^* = n\\pi$, where $n$ is an integer. \n",
    "\n",
    "Then: \n",
    "\n",
    "$$\n",
    "f'(x^*)= \\cos n \\pi\n",
    "\\begin{cases}\n",
    "1& \\quad \\text{if $n$ even,}\\\\ \n",
    "-1& \\quad \\text{if $n$ odd.}\\\\ \n",
    "\\end{cases}\n",
    "$$\n",
    "\n",
    "Hence, $x^* = n\\pi$ is stable if $n$ is odd and unstable if $n$ is odd. This agrees with our graphical analysis. "
   ]
  },
  {
   "cell_type": "code",
   "execution_count": null,
   "id": "71c887ff-1472-486d-a494-d6acc330af27",
   "metadata": {},
   "outputs": [],
   "source": []
  }
 ],
 "metadata": {
  "kernelspec": {
   "display_name": "Python 3 (ipykernel)",
   "language": "python",
   "name": "python3"
  },
  "language_info": {
   "codemirror_mode": {
    "name": "ipython",
    "version": 3
   },
   "file_extension": ".py",
   "mimetype": "text/x-python",
   "name": "python",
   "nbconvert_exporter": "python",
   "pygments_lexer": "ipython3",
   "version": "3.12.2"
  }
 },
 "nbformat": 4,
 "nbformat_minor": 5
}
