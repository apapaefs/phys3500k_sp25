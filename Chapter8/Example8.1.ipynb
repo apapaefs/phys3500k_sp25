{
 "cells": [
  {
   "cell_type": "markdown",
   "id": "b71f37a1-0ba5-42d4-b0f3-e9e89b0e688e",
   "metadata": {},
   "source": [
    "## Example 8.1: Find all the fixed points for $\\dot{x} = x^2 -1$, and classify their stability."
   ]
  },
  {
   "cell_type": "code",
   "execution_count": 18,
   "id": "f8a927cd-19d5-4d8f-bb9d-ca5add88c7c0",
   "metadata": {},
   "outputs": [
    {
     "data": {
      "image/png": "[encoded data removed]",
      "text/plain": [
       "<Figure size 640x480 with 1 Axes>"
      ]
     },
     "metadata": {},
     "output_type": "display_data"
    }
   ],
   "source": [
    "import matplotlib.pyplot as plt # import matplotlib, a conventional module name is plt\n",
    "import numpy as np\n",
    "\n",
    "x = np.linspace(-2, 2, 600) # \n",
    "xdot = x**2-1\n",
    "\n",
    "fig, ax = plt.subplots() # create the elements required for matplotlib. This creates a figure containing a single axes.\n",
    "\n",
    "# set the labels and titles:\n",
    "ax.set_xlabel(r'$x$', fontsize=20) # set the x label\n",
    "ax.set_ylabel(r'$\\dot{x}$', fontsize=20) # set the y label\n",
    "ax.set_title('Example 8.1: $f(x) = x^2 -1$', fontsize=10) # set the title \n",
    "\n",
    "# set the x and y limits:\n",
    "ax.set_xlim(-2,2)\n",
    "ax.set_ylim(-4,4)\n",
    "\n",
    "# make one-dimensional plots using the above arrays, add a custom label, linestyles and colors:\n",
    "ax.plot(x, xdot, color='blue', linestyle='-', label='a sine curve') \n",
    "\n",
    "# change the axis labels to correspond to [0, pi/2, pi, 1.5 * pi, 2*pi, 2.5*pi, 3*pi]\n",
    "ax.set_xticks([])\n",
    "ax.set_yticks([])\n",
    "\n",
    "# plot the fixed points: \n",
    "xfpu = [1]\n",
    "yfpu = [0]\n",
    "plt.scatter(xfpu, yfpu, s=80, facecolors='none', edgecolors='r', zorder=11)\n",
    "\n",
    "# plot the fixed points: \n",
    "xfps = [-1]\n",
    "yfps = [0]\n",
    "plt.scatter(xfps, yfps, s=80, facecolors='r', edgecolors='r', zorder=11)\n",
    "\n",
    "\n",
    "# the axes:\n",
    "ax.set_aspect(0.2)\n",
    "ax.axhline(y=0, color='k', alpha=0.5)\n",
    "ax.axvline(x=0, color='k')\n",
    "\n",
    "# Vector origin location \n",
    "X = [1, 1, -2] \n",
    "Y = [0, 0, 0] \n",
    "  \n",
    "# Directional vectors \n",
    "U = [1.5, -3, 2]   \n",
    "V = [0, 0,  0]   \n",
    "# Creating plot \n",
    "plt.quiver(X, Y, U, V, color='black', units='xy', scale=1, zorder=10, width=0.035) \n",
    "\n",
    "plt.show() # show the plot here"
   ]
  },
  {
   "cell_type": "markdown",
   "id": "a921c2e0-5666-44fc-b32a-eeab80177526",
   "metadata": {},
   "source": [
    "To find the fixed points analytically, set $f(x^*) = 0$. Hence we have: $x^* = \\pm 1$. We can determine their stability by sketching the phase portrait, i.e. by constructing the vector field. It is clear that $x=-1$ is a stable fixed point, whereas $x=+1$ is an unstable fixed point. "
   ]
  },
  {
   "cell_type": "code",
   "execution_count": null,
   "id": "420810d5-46c9-4015-bb51-c8aaf7cd5d45",
   "metadata": {},
   "outputs": [],
   "source": []
  }
 ],
 "metadata": {
  "kernelspec": {
   "display_name": "Python 3 (ipykernel)",
   "language": "python",
   "name": "python3"
  },
  "language_info": {
   "codemirror_mode": {
    "name": "ipython",
    "version": 3
   },
   "file_extension": ".py",
   "mimetype": "text/x-python",
   "name": "python",
   "nbconvert_exporter": "python",
   "pygments_lexer": "ipython3",
   "version": "3.12.2"
  }
 },
 "nbformat": 4,
 "nbformat_minor": 5
}
