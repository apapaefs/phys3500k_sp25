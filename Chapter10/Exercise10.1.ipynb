{
 "cells": [
  {
   "cell_type": "markdown",
   "id": "20530135-0455-4994-b6b0-2b72e0700a5e",
   "metadata": {},
   "source": [
    "# Exercise 10.1: Gauss-Seidel Iteration in Two Dimensions for Various Charge Configurations\n",
    "\n",
    "Implement the Gauss-Seidel method in two dimensions and calculate potential $\\phi(x,y)$ in a rectangle of sides of length 1, using the Poisson equation in the form:\n",
    "\n",
    "$-\\left(\\frac{ \\partial^2 }{\\partial x^2} + \\frac{ \\partial^2 }{\\partial y^2}\\right) \\phi(x,y) = S(x,y)$.\n",
    "\n",
    "\n",
    "Consider the following three charge configurations (i.e. source configurations):\n",
    "\n",
    "i) Circular charge of constant density at $(x,y)=(0.5,0.5)$:\n",
    "$$\n",
    "S(x,y)=\n",
    "\\begin{cases}\n",
    "10& \\quad \\text{if $(x-0.5)^2 + (y-0.5)^2 < 0.05^2 $;}\\\\ \n",
    "0& \\quad \\text{otherwise.}\\\\ \n",
    "\\end{cases}\n",
    "$$\n",
    "\n",
    "\n",
    "ii) Two parallel rectangular lines of constant charge density:\n",
    "$$\n",
    "S(x,y)=\n",
    "\\begin{cases}\n",
    "10& \\quad \\text{if $x > 0.2$, $x<0.8$, $y>0.78$, $y<0.82$;}\\\\ \n",
    "-10&\\quad \\text{if $x > 0.2$, $x<0.8$, $y>0.18$, $y<0.22$;}\\\\\n",
    "& \\quad \\text{otherwise.}\\\\ \n",
    "\\end{cases}\n",
    "$$\n",
    "\n",
    "iii) A rectangular line of charge and a circular charge:\n",
    "$$\n",
    "S(x,y)=\n",
    "\\begin{cases}\n",
    "10&\\quad \\text{if $x > 0.2$, $x<0.8$, $y>0.18$, $y<0.22$;}\\\\\n",
    "-10& \\quad \\text{if $(x-0.5)^2 + (y-0.8)^2 < 0.05^2 $;}\\\\ \n",
    "& \\quad \\text{otherwise.}\\\\ \n",
    "\\end{cases}\n",
    "$$\n",
    "\n",
    "Set the boundary conditions $\\phi(x,0) = \\phi(0,y) = 0$ at the edges of the unit rectangle. You may investigate which values of the relaxation parameter, $\\omega$ are optimal for your grid size, which should be $N\\times N$ with $N\\sim 50$. You will need to perform $\\mathcal{O}(\\text{few }100)$ iterations.\n",
    "\n",
    "For each case:\n",
    "\n",
    "(a) Plot the energy function against the number of iterations and show that it converges.\n",
    "\n",
    "(b) Plot a contour plot of the potentials (see Chapter 1 for an example of contour plots, not that the resulting 2D array will need to be transposed in your calculation). \n",
    "\n",
    "(c) Comment on whether the resulting potentials qualitatively agree with your expectations. "
   ]
  },
  {
   "cell_type": "code",
   "execution_count": null,
   "id": "6e129ded-7ab7-42c5-baac-0bec0f3ff8ff",
   "metadata": {},
   "outputs": [],
   "source": []
  }
 ],
 "metadata": {
  "kernelspec": {
   "display_name": "Python 3 (ipykernel)",
   "language": "python",
   "name": "python3"
  },
  "language_info": {
   "codemirror_mode": {
    "name": "ipython",
    "version": 3
   },
   "file_extension": ".py",
   "mimetype": "text/x-python",
   "name": "python",
   "nbconvert_exporter": "python",
   "pygments_lexer": "ipython3",
   "version": "3.12.2"
  }
 },
 "nbformat": 4,
 "nbformat_minor": 5
}
