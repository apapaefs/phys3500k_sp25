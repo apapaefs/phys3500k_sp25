{
 "cells": [
  {
   "cell_type": "markdown",
   "id": "bed631de-9777-430b-8b5d-24196f386c87",
   "metadata": {},
   "source": [
    "### Example 5.5: Use von Neumann rejection to sample points in the interval $[0,1]$, distributed as $w(x) = \\frac{6}{5} ( 1 - \\frac{1}{2} x^2)$. Plot a histogram of the points and verify that they are indeed distributed according to $w(x)$. Evaluate the integral $I = \\int_0^1 \\frac{1}{1+x^2} \\mathrm{d} x$ and its uncertainty with these points. "
   ]
  },
  {
   "cell_type": "code",
   "execution_count": 24,
   "id": "6b82381c-a0a2-44d8-96e5-2eee2cfae3db",
   "metadata": {},
   "outputs": [
    {
     "name": "stdout",
     "output_type": "stream",
     "text": [
      "Number of points generated= 10000\n"
     ]
    }
   ],
   "source": [
    "import math\n",
    "import random # we need random numbers for the Monte Carlo method!\n",
    "import numpy as np\n",
    "\n",
    "# first let's use the von Neumann rejection to obtain a sample of 1E4 points according to w(x):\n",
    "# let's write a function that returns a list of N points distributed according to w(x)\n",
    "def vonNeumann(wfunc, wpfunc, N):\n",
    "    \"\"\"Uses the von Neumann rejection method to generate a sample of N points distributed according to wfunc, with the w' being called wpfunc\"\"\"\n",
    "    n = 0 # counter of accepted points\n",
    "    points = []\n",
    "    while(n < N): # stop once you have accepted N points:\n",
    "        # first pick a random point in [0,1]:\n",
    "        xi = random.random()\n",
    "        # then calculate wfunc(x)/wpfunc(x) and compare to a random number eta\n",
    "        eta = random.random()\n",
    "        if eta < wfunc(xi)/wpfunc(xi): # if eta < w(xi)/w'(xi) then accept the point\n",
    "            n = n + 1 # increment the counter of accepted points \n",
    "            points.append(xi) # append it to the list\n",
    "        else: # otherwise reject and restart\n",
    "            continue\n",
    "    return points\n",
    "\n",
    "# now let's write a Monte Carlo integration routine that does the integral using a given set of points {xi}\n",
    "# this is almost identical to our previous mc integration routine, but now the points are pre-determined \n",
    "def mcint_vonNeumann(func, wfunc, points):\n",
    "    sumf = 0 # we will use this variable for the sum of f(x_i)\n",
    "    sumfsq = 0 # and this one for the sum of f(x_i)^2, used in the error calculation\n",
    "    for xi in points:\n",
    "        sumf = sumf + func(xi)/wfunc(xi)\n",
    "        sumfsq = sumfsq + (func(xi)/wfunc(xi))**2 \n",
    "    # now calculate the average value of f (i.e. the integral):\n",
    "    I = sumf/N\n",
    "    # and the error: \n",
    "    sigmaIsq = (1/N) * ( (1/N) * sumfsq - I**2 ) # this is the variance (i.e. the error squared)\n",
    "    sigmaI = math.sqrt(sigmaIsq) # this is the actual error\n",
    "    return I, sigmaI # return the integral and its error\n",
    "\n",
    "# define the function to be integrated:\n",
    "def f(x):\n",
    "    return 1/(1+x**2)\n",
    "\n",
    "# define the weight function that we wish to use for the integration:\n",
    "def w(x): \n",
    "    return (6/5) * (1- np.power(x,2)/2)\n",
    "\n",
    "# define the w'(x) function. In this case we choose the maxim value of w(x) in [0,1] = 6/5\n",
    "def wp(x):\n",
    "    return (6/5) \n",
    "\n",
    "# Let's first get the points and plot them: \n",
    "N = 1E4\n",
    "points = vonNeumann(w, wp, N)\n",
    "print('Number of points generated=', len(points))"
   ]
  },
  {
   "cell_type": "markdown",
   "id": "d17e3706-ca2e-4668-85a5-5df92ec1aed0",
   "metadata": {},
   "source": [
    "Let's now plot the points and their expected distribution: "
   ]
  },
  {
   "cell_type": "code",
   "execution_count": 19,
   "id": "b6c39562-0fe6-4439-9201-02b5904212bb",
   "metadata": {},
   "outputs": [
    {
     "data": {
      "image/png": "[encoded data removed]",
      "text/plain": [
       "<Figure size 640x480 with 1 Axes>"
      ]
     },
     "metadata": {},
     "output_type": "display_data"
    }
   ],
   "source": [
    "import matplotlib.pyplot as plt # import matplotlib, a conventional module name is plt\n",
    "import numpy as np\n",
    "\n",
    "fig, ax = plt.subplots() # create the elements required for matplotlib. This creates a figure containing a single axes.\n",
    "\n",
    "# set the labels and titles:\n",
    "ax.set_xlabel(r'$x$', fontsize=20) # set the x label\n",
    "ax.set_ylabel(r'$w(x)$', fontsize=20) # set the y label\n",
    "ax.set_title('Test of point distribution', fontsize=10) # set the title \n",
    "\n",
    "# set the x and y limits:\n",
    "ax.set_xlim(0, 1)\n",
    "\n",
    "x = np.linspace(0,1,1000)\n",
    "wx = w(x)\n",
    "\n",
    "# make one-dimensional plots using the above arrays, add a custom label, linestyles and colors:\n",
    "ax.hist(points, color='blue', density=True, fill=False, histtype='step', label=\"von Neumann\") \n",
    "\n",
    "# plot the actual distribution for comparison: \n",
    "ax.plot(x, wx, color='red', label=\"$w(x)$\")\n",
    "\n",
    "# construct the legend:\n",
    "ax.legend(loc='upper right')  # Add a legend\n",
    "\n",
    "plt.show() # show the plot here"
   ]
  },
  {
   "cell_type": "markdown",
   "id": "fe13272c-60e1-4792-b489-e62477814d5d",
   "metadata": {},
   "source": [
    "And let's perform the Monte Carlo integration using these points: "
   ]
  },
  {
   "cell_type": "code",
   "execution_count": 26,
   "id": "cdf4a1da-bd54-48b3-a640-43fdf6d876c5",
   "metadata": {},
   "outputs": [
    {
     "name": "stdout",
     "output_type": "stream",
     "text": [
      "The integral with the von Neumann sample= 0.7852921873776357 +- 0.00032730078253789563\n"
     ]
    }
   ],
   "source": [
    "Int, Err = mcint_vonNeumann(f, w, points)\n",
    "print(\"The integral with the von Neumann sample=\", Int, \"+-\", Err)"
   ]
  },
  {
   "cell_type": "code",
   "execution_count": null,
   "id": "e2a5e3d3-bbc8-468d-ae39-617a5969127b",
   "metadata": {},
   "outputs": [],
   "source": []
  }
 ],
 "metadata": {
  "kernelspec": {
   "display_name": "Python 3 (ipykernel)",
   "language": "python",
   "name": "python3"
  },
  "language_info": {
   "codemirror_mode": {
    "name": "ipython",
    "version": 3
   },
   "file_extension": ".py",
   "mimetype": "text/x-python",
   "name": "python",
   "nbconvert_exporter": "python",
   "pygments_lexer": "ipython3",
   "version": "3.11.11"
  }
 },
 "nbformat": 4,
 "nbformat_minor": 5
}
