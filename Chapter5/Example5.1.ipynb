{
 "cells": [
  {
   "cell_type": "markdown",
   "id": "8cbdb13f-917e-4f74-ac74-a3cff240f232",
   "metadata": {},
   "source": [
    "Example 5.1: Use the Monte Carlo integration method to calculate the integral $\\int_0^1 \\frac{ \\mathrm{d} x } { 1 + x^2 } = \\frac{\\pi}{4}$. Also calculate the error. "
   ]
  },
  {
   "cell_type": "code",
   "execution_count": 1,
   "id": "90b26aed-bc8a-451e-912e-2f188a0e1257",
   "metadata": {},
   "outputs": [
    {
     "name": "stdout",
     "output_type": "stream",
     "text": [
      "Analytic value of the integral= 0.7853981633974483\n",
      "The MC integral of f(x) = 1/(1+x^2) in [0.1] is 0.7842914393016733 +- 0.0016167075462319028\n",
      "The fractional uncertainty is 0.002061360694783824\n",
      "The fractional difference from the analytical value is 0.001409124883851928\n"
     ]
    }
   ],
   "source": [
    "import math\n",
    "import random # we need random numbers for the Monte Carlo method!\n",
    "\n",
    "# Let's define a function that performs one-dimensional MC integration of an arbitrary for N points\n",
    "# We'll also make it capable of performing the integration in an interval a,b\n",
    "def mcint(func, a, b, N):\n",
    "    \"\"\"Calculates the one-dimensional Monte Carlo integral of func in [a,b] for N points\"\"\"\n",
    "    sumf = 0 # we will use this variable for the sum of f(x_i)\n",
    "    sumfsq = 0 # and this one for the sum of f(x_i)^2, used in the error calculation\n",
    "    for i in range(int(N)):\n",
    "        xi = (b-a) * random.random() + a\n",
    "        sumf = sumf + func(xi)\n",
    "        sumfsq = sumfsq + func(xi)**2 \n",
    "    # now calculate the average value of f (i.e. the integral):\n",
    "    I = sumf/N\n",
    "    # and the error: \n",
    "    sigmaIsq = (1/N) * ( (1/N) * sumfsq - I**2 ) # this is the variance (i.e. the error squared)\n",
    "    sigmaI = math.sqrt(sigmaIsq) # this is the actual error\n",
    "    return I, sigmaI # return the integral and its error\n",
    "\n",
    "# Now let's also define the function that we wish to integrate:\n",
    "def f(x):\n",
    "    return 1/(1+x**2)\n",
    "\n",
    "# and use our mcint() function to integrate it in [0,1]:\n",
    "N = 10000 # with 10000 points we expect O(1/sqrt(N)) ~ O(1%) error\n",
    "Int, Err = mcint(f,0,1,N) # this way you can access both the integral and its error\n",
    "\n",
    "# print the results:\n",
    "print(\"Analytic value of the integral=\", math.pi/4)\n",
    "print(\"The MC integral of f(x) = 1/(1+x^2) in [0.1] is\", Int, \"+-\", Err)\n",
    "print(\"The fractional uncertainty is\", Err/Int)\n",
    "print(\"The fractional difference from the analytical value is\", abs(Int-math.pi/4)/(math.pi/4))\n"
   ]
  },
  {
   "cell_type": "code",
   "execution_count": null,
   "id": "c95305ea-d072-4b4c-b95e-f20492d8a71c",
   "metadata": {},
   "outputs": [],
   "source": []
  }
 ],
 "metadata": {
  "kernelspec": {
   "display_name": "Python 3 (ipykernel)",
   "language": "python",
   "name": "python3"
  },
  "language_info": {
   "codemirror_mode": {
    "name": "ipython",
    "version": 3
   },
   "file_extension": ".py",
   "mimetype": "text/x-python",
   "name": "python",
   "nbconvert_exporter": "python",
   "pygments_lexer": "ipython3",
   "version": "3.12.2"
  }
 },
 "nbformat": 4,
 "nbformat_minor": 5
}
