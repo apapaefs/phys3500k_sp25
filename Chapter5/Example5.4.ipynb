{
 "cells": [
  {
   "cell_type": "markdown",
   "id": "63a1ba04-3f6a-4bbb-b5ac-4a6cab2558f1",
   "metadata": {},
   "source": [
    "## Example 5.4: Use multi-dimensional Monte Carlo integration to calculate π!"
   ]
  },
  {
   "cell_type": "markdown",
   "id": "f5c075cc-92fa-436b-a041-176f4d12b07c",
   "metadata": {},
   "source": [
    "We will use the formula: \n",
    "\n",
    "$\\pi = 4 \\int_0^1 \\mathrm{d} y \\int_0^1 \\mathrm{d} x \\theta(1 - x^2 - y^2)$.\n",
    "\n",
    "Essentially, the theta function (i.e. the step function) tells us whether we are in or outside the circle:\n",
    "\n",
    "$\\theta(s) = 1$ if $s > 0$ and $\\theta(s) = 0$ if $s < 0$.\n",
    "\n",
    "and since $s = 1 - x^2 - y^2$, then the theta function is zero if $x^2 + y^2 > 1$, i.e. outside the circle quadrant. \n",
    "\n",
    "So to perform the integral, we need to choose points on $(x,y)$ uniformly in each direction in $x,y \\in [0,1]$, and only \"count\" them towards the integral if $\\theta = 1$, i.e. inside the circle! "
   ]
  },
  {
   "cell_type": "code",
   "execution_count": 1,
   "id": "875a096b-fe52-41f0-ad23-4af0a0a6ee61",
   "metadata": {},
   "outputs": [
    {
     "name": "stdout",
     "output_type": "stream",
     "text": [
      "Pi estimate for N= 10000 is 3.1472 +- 0.016382710886785494\n"
     ]
    }
   ],
   "source": [
    "import math\n",
    "import random\n",
    "\n",
    "# The number of points to use:\n",
    "N=10000\n",
    "\n",
    "def mcint_2D(func,limitsx,limitsy,N):\n",
    "    \"\"\"Calculates the two-dimensional Monte Carlo integral of func in limitsx=[a_x,b_x] and limitsy=[a_y,b_y] for N points\"\"\"\n",
    "    sumf = 0 # we will use this variable for the sum of f(x_i)\n",
    "    sumfsq = 0 # and this one for the sum of f(x_i)^2, used in the error calculation\n",
    "    for i in range(int(N)):\n",
    "        xi = (limitsx[1]-limitsx[0]) * random.random() + limitsx[0]\n",
    "        yi = (limitsy[1]-limitsy[0]) * random.random() + limitsy[0]\n",
    "        sumf = sumf + func(xi, yi)\n",
    "        sumfsq = sumfsq + func(xi,yi)**2 \n",
    "    # now calculate the average value of f (i.e. the integral):\n",
    "    I = sumf/N\n",
    "    # and the error: \n",
    "    sigmaIsq = (1/N) * ( (1/N) * sumfsq - I**2 ) # this is the variance (i.e. the error squared)\n",
    "    sigmaI = math.sqrt(sigmaIsq) # this is the actual error\n",
    "    return I, sigmaI # return the integral and its error \n",
    "\n",
    "# now define the function to be integrated as the theta function: \n",
    "def f(x,y):\n",
    "    if x**2 + y**2 > 1: # outside the circle\n",
    "        return 0\n",
    "    else:\n",
    "        return 1 # inside the circle\n",
    "\n",
    "\n",
    "# let's first calculate the integral:\n",
    "Int_2D, Err_2D = mcint_2D(f,[0,1],[0,1],N) # this way you can access both the integral and its error\n",
    "\n",
    "# and pi is 4*Int_2D:\n",
    "print(\"Pi estimate for N=\", N, 'is', 4*Int_2D, '+-', 4*Err_2D)\n"
   ]
  },
  {
   "cell_type": "code",
   "execution_count": null,
   "id": "d60b73d6-f7fc-4135-86e3-48323e121b8e",
   "metadata": {},
   "outputs": [],
   "source": []
  }
 ],
 "metadata": {
  "kernelspec": {
   "display_name": "commphy",
   "language": "python",
   "name": "commphy"
  },
  "language_info": {
   "codemirror_mode": {
    "name": "ipython",
    "version": 3
   },
   "file_extension": ".py",
   "mimetype": "text/x-python",
   "name": "python",
   "nbconvert_exporter": "python",
   "pygments_lexer": "ipython3",
   "version": "3.11.8"
  }
 },
 "nbformat": 4,
 "nbformat_minor": 5
}
