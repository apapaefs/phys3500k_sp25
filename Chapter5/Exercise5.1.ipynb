{
 "cells": [
  {
   "cell_type": "markdown",
   "id": "22a26e10-600a-4ae1-938d-262492f9971e",
   "metadata": {},
   "source": [
    "# Exercise 5.1: The Volumes of Hyperspheres\n",
    "\n",
    "An $n$-dimensional sphere ($n$-sphere), also known as an $n$-ball, is the region of space comprising all points within a fixed distance, called the radius, from a given point. \n",
    "\n",
    "In this example we wish to calculate the volume of an $n$-ball with *unit radius*, centered at the origin, for various values of the dimensionality $n$. \n",
    "\n",
    "For $n=0$ dimensions, the volume is defined to be $V_0 = 1$. In one dimension, the volume is simply $V_1 = 2$. \n",
    "\n",
    "To calculate the volumes in higher dimensions, we will use the Monte Carlo integration technique, generalizing the formula we used to obtain an approximation to $\\pi$: \n",
    "\n",
    "\n",
    "$V_n = \\int \\mathrm{d}^n x ~\\theta(1 - \\sum_{i=1}^n x_i^2)$,\n",
    "\n",
    "so for example, the volume of a 2-ball (a circle) is simply:\n",
    "\n",
    "$V_2 = 4 \\int_{0}^1 \\mathrm{d} x_1 \\int_{0}^1 \\mathrm{d} x_2  ~\\theta(1 - x_1^2 - x_2^2)$.\n",
    "\n",
    "We expect this to be = $\\pi$! The procedure to obtain this result was examined in Example 5.4. We will generalize this to $n$ dimensions. \n",
    "\n",
    "(a) Start by calculating the volume of an $3$-dimensional sphere, for which we expect the result $V_3 = \\frac{4}{3} \\pi$: \n",
    "\n",
    "$V_3 = 2^3 \\int_{0}^1 \\mathrm{d} x_1 \\int_{0}^1 \\mathrm{d} x_2 \\int_{0}^1 \\mathrm{d} x_3  ~\\theta(1 - x_1^2 - x_2^2 - x_3^2)$.\n",
    "\n",
    "\n",
    "(b) Generalize your code to handle any number of dimensions, and calculate the volumes of $n$-balls up to $n=30$ using:\n",
    "\n",
    "$V_n = 2^n \\int_{0}^1 \\mathrm{d} x_1 \\int_{0}^1 \\mathrm{d} x_2 \\int_{0}^1 ... \\mathrm{d} x_n ~\\theta(1 - \\sum_{i=1}^n x_i^2)$. \n",
    "\n",
    "(c) Graph the result. \n",
    "\n",
    "BONUS 10%:\n",
    "\n",
    "(d) Add the analytical results to your graph, given for the unit sphere, by:\n",
    "\n",
    "$V_n = \\frac{\\pi^{n/2}}{\\Gamma(\\frac{n}{2}+1)}$, where $\\Gamma$ is the Euler Gamma function. \n",
    "\n",
    "You may use the scipy special function: \n",
    "\n",
    "```scipy.special.gamma``` which represents the $\\Gamma$ function. "
   ]
  },
  {
   "cell_type": "code",
   "execution_count": null,
   "id": "89ae5cc0-dd8d-407f-9caa-6ae45c724019",
   "metadata": {},
   "outputs": [],
   "source": []
  }
 ],
 "metadata": {
  "kernelspec": {
   "display_name": "Python 3 (ipykernel)",
   "language": "python",
   "name": "python3"
  },
  "language_info": {
   "codemirror_mode": {
    "name": "ipython",
    "version": 3
   },
   "file_extension": ".py",
   "mimetype": "text/x-python",
   "name": "python",
   "nbconvert_exporter": "python",
   "pygments_lexer": "ipython3",
   "version": "3.12.2"
  }
 },
 "nbformat": 4,
 "nbformat_minor": 5
}
