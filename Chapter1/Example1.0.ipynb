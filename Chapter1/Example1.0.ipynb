{
 "cells": [
  {
   "cell_type": "markdown",
   "id": "4ffb736c-72e4-4774-a9e5-78bd02e963b4",
   "metadata": {},
   "source": [
    "# Example 1:\n",
    "\n",
    "(a) Use a ```for``` or ```while``` loop (or otherwise) to calculate the sum of integers from 1 up to a specified number N. Does it agree with your expectation for the sum of an arithmetic progression? Recall that $S_n = n (\\mathrm{initial~term} + \\mathrm{final~term})/2$ for the sum of $n$ terms in an  arithmetic progression.\n",
    "\n",
    "(b) Write a python function that calculates the same quantity. "
   ]
  },
  {
   "cell_type": "markdown",
   "id": "f3af47a2-d56e-4381-8cda-98ab1192fbf5",
   "metadata": {},
   "source": [
    "(a) Our code has to add to a variable (```sum```) the current integer in the for loop, up to ```N```, where ```N``` is taken from an ```input``` command:"
   ]
  },
  {
   "cell_type": "code",
   "execution_count": 3,
   "id": "81016929-5008-4f20-998e-20e58f19ce65",
   "metadata": {},
   "outputs": [
    {
     "name": "stdin",
     "output_type": "stream",
     "text": [
      "Please enter an integer:  5\n"
     ]
    },
    {
     "name": "stdout",
     "output_type": "stream",
     "text": [
      "The sum of all integers from 0 to 5 is 15\n"
     ]
    }
   ],
   "source": [
    "N = int(input(\"Please enter an integer: \"))\n",
    "sum = 0 # the initial value of the sum is zero\n",
    "for i in range(N+1): # i will iterate from 0 to N in this case\n",
    "    sum = sum + i # add the current value of i to the sum\n",
    "# print the sum to screen:\n",
    "print('The sum of all integers from 0 to', N, 'is', sum)"
   ]
  },
  {
   "cell_type": "markdown",
   "id": "047b93d0-c3cb-4127-8453-bee2cfa6fe2b",
   "metadata": {},
   "source": [
    "(b) We can use the same code to write a python function. Recall that a function is defined via ```def```. "
   ]
  },
  {
   "cell_type": "code",
   "execution_count": 5,
   "id": "5afe50c5-eab5-4f4e-9410-4e445edd14b3",
   "metadata": {},
   "outputs": [
    {
     "name": "stdin",
     "output_type": "stream",
     "text": [
      "Please enter an integer:  5\n"
     ]
    },
    {
     "name": "stdout",
     "output_type": "stream",
     "text": [
      "The sum of all integers from 0 to 5 is 15\n"
     ]
    }
   ],
   "source": [
    "N = int(input(\"Please enter an integer: \")) # grab the input again\n",
    "\n",
    "# construct the function that sums integers from 0 to n (including n)\n",
    "def sumIntegers(n): # n will be the upper limit of the integers to sum\n",
    "    sum = 0 # the initial value of the sum is zero\n",
    "    for i in range(n+1): # i will iterate from 0 to N in this case\n",
    "        sum = sum + i # add the current value of i to the sum\n",
    "    # print the sum to screen:\n",
    "    print('The sum of all integers from 0 to', n, 'is', sum)\n",
    "\n",
    "# now \"call\" the function with the input N:\n",
    "sumIntegers(N)"
   ]
  },
  {
   "cell_type": "code",
   "execution_count": null,
   "id": "f402e613-352d-4f97-bae0-206739180d4d",
   "metadata": {},
   "outputs": [],
   "source": []
  }
 ],
 "metadata": {
  "kernelspec": {
   "display_name": "Python 3 (ipykernel)",
   "language": "python",
   "name": "python3"
  },
  "language_info": {
   "codemirror_mode": {
    "name": "ipython",
    "version": 3
   },
   "file_extension": ".py",
   "mimetype": "text/x-python",
   "name": "python",
   "nbconvert_exporter": "python",
   "pygments_lexer": "ipython3",
   "version": "3.12.7"
  }
 },
 "nbformat": 4,
 "nbformat_minor": 5
}
