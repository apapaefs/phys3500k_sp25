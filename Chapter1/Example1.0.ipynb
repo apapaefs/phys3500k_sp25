{
 "cells": [
  {
   "cell_type": "markdown",
   "id": "4ffb736c-72e4-4774-a9e5-78bd02e963b4",
   "metadata": {},
   "source": [
    "# Example 1:\n",
    "\n",
    "(a) Use a ```for``` or ```while``` loop (or otherwise) to calculate the sum of integers from 1 up to a specified number N. Does it agree with your expectation for the sum of an arithmetic progression? Recall that $S_n = n (\\mathrm{initial~term} + \\mathrm{final~term})/2$ for the sum of $n$ terms in an  arithmetic progression.\n",
    "\n",
    "(b) Write a python function that calculates the same quantity. "
   ]
  },
  {
   "cell_type": "code",
   "execution_count": null,
   "id": "d0d79a84-4291-4a9f-9cc9-9c94e85a1471",
   "metadata": {},
   "outputs": [],
   "source": []
  },
  {
   "cell_type": "code",
   "execution_count": null,
   "id": "81016929-5008-4f20-998e-20e58f19ce65",
   "metadata": {},
   "outputs": [],
   "source": []
  }
 ],
 "metadata": {
  "kernelspec": {
   "display_name": "Python 3 (ipykernel)",
   "language": "python",
   "name": "python3"
  },
  "language_info": {
   "codemirror_mode": {
    "name": "ipython",
    "version": 3
   },
   "file_extension": ".py",
   "mimetype": "text/x-python",
   "name": "python",
   "nbconvert_exporter": "python",
   "pygments_lexer": "ipython3",
   "version": "3.11.10"
  }
 },
 "nbformat": 4,
 "nbformat_minor": 5
}
