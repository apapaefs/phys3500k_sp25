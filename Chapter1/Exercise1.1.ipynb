{
 "cells": [
  {
   "cell_type": "markdown",
   "id": "30a44910-cb14-4616-9aaf-262a0726c284",
   "metadata": {},
   "source": [
    "# Exercise 1: Pell and rational approximations to the square root of 2.\n",
    "\n",
    "(a) Write a *recursive* function that returns the first ```n``` Pell numbers, defined by the recurrence relation:\n",
    "$$\n",
    "P_n=\n",
    "\\begin{cases}\n",
    "0& \\quad \\text{if $n=0$;}\\\\ \n",
    "1& \\quad \\text{if $n=1$;}\\\\ \n",
    "2 P_{n-1} + P_{n-2} & \\quad \\text{otherwise.}\n",
    "\\end{cases}\n",
    "$$\n",
    "(b) Pell numbers arise in the rational approximation to $\\sqrt{2}$. If two large integers $x$ and $y$ form a solution to the Pell equation:\n",
    "\n",
    "$x^2 - 2 y^2 = \\pm 1$\n",
    "\n",
    "then their ratio $x/y$ provides a close approximatio to $\\sqrt{2}$. The sequence of approximations of this form is:$\\frac{1}{1}, \\frac{3}{2}, \\frac{7}{5}, \\frac{17}{12}, \\frac{41}{29}, \\frac{99}{70}, ...$, where the denominator of each fraction is a Pell number, and the numberator is the sum of a Pell number and its predecessor in the sequence. That is, the solutions have the form:\n",
    "\n",
    "$\\frac{P_{n-1} + P_{n}}{P_n}$.\n",
    "\n",
    "Using your function from part (a), write a function that generates the first m terms in the sequence of approximations to $\\sqrt{2}$. \n",
    "\n",
    "(c) Use the function to calculate the first 20 terms. \n",
    "\n",
    "(d) Compare the 20th approximation with the value you obtain from Python's ```math.sqrt(2)```, *by calculating the fractional error*. \n",
    "\n",
    "[For more details, see relevant Wikipedia entry: https://en.wikipedia.org/wiki/Pell_number]"
   ]
  },
  {
   "cell_type": "code",
   "execution_count": null,
   "id": "bab1a7b4-cf77-40af-ac53-d6b3c403914c",
   "metadata": {},
   "outputs": [],
   "source": []
  }
 ],
 "metadata": {
  "kernelspec": {
   "display_name": "Python 3 (ipykernel)",
   "language": "python",
   "name": "python3"
  },
  "language_info": {
   "codemirror_mode": {
    "name": "ipython",
    "version": 3
   },
   "file_extension": ".py",
   "mimetype": "text/x-python",
   "name": "python",
   "nbconvert_exporter": "python",
   "pygments_lexer": "ipython3",
   "version": "3.12.7"
  }
 },
 "nbformat": 4,
 "nbformat_minor": 5
}
