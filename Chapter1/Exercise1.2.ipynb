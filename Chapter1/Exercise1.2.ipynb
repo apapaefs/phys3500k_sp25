{
 "cells": [
  {
   "cell_type": "markdown",
   "id": "693136cf-1711-491b-933c-7aa220c07487",
   "metadata": {},
   "source": [
    "# Exercise 1.2: Graphical Solutions to Transcendental Equations\n",
    "\n",
    "One of the most standard problems in quantum mechanics is to find the bound states of a particle of mass $m$ in a one-dimensional *finite* square well, with potential:\n",
    "\n",
    "$$\n",
    "V(x)=\n",
    "\\begin{cases}\n",
    "-V_0& \\quad \\text{if $-a \\leq x \\leq a$;}\\\\ \n",
    "0& \\quad \\text{if $|x| > a$.}\\\\ \n",
    "\\end{cases}\n",
    "$$\n",
    "\n",
    "After solving the Schrödinger equation in one dimension and applying the boundary conditions, we obtain transcendental equations for the energies, one type for odd and one type for even wave functions. Using the definitions:\n",
    "\n",
    "$$\n",
    "z_0 = \\frac{a}{\\hbar} \\sqrt{2 m V_0}\\;,\n",
    "$$\n",
    "which characterizes the \"depth\" of the well, and:\n",
    "\n",
    "$$\n",
    "z = a\\frac{\\sqrt{2m (E+V_0)}}{\\hbar}\\;,\n",
    "$$\n",
    "then the two *transcendental* equations can be written as:\n",
    "\n",
    "$$\n",
    "\\tan(z) = \\sqrt{ \\frac{z_0^2}{z^2} - 1}~~~~\\text{(even wave functions)}\n",
    "$$\n",
    "\n",
    "$$\n",
    "-\\cot(z) = \\sqrt{ \\frac{z_0^2}{z^2} - 1}~~~~\\text{(odd wave functions)}\n",
    "$$\n",
    "\n",
    "[see e.g. Griffiths & Schroeter, Introduction to Quantum Mechanics, Chapter 2]\n",
    "\n",
    "Use matplotlib to plot the two transcendental equations for $z_0 = 1, 8, 16$, i.e. plotting the left and right hand-sides of the equations. Their points of intersection give the values of $z$ that correspond to solutions that can be used to extract the energy $E$. [We will later see how to find the points numerically.]\n",
    "\n",
    "**10% Bonus:**\n",
    "\n",
    "Change the $z$-axis labels and ticks to correspond to $\\pi/2, \\pi, 3\\pi/2, 2\\pi, 5\\pi/2,...$."
   ]
  },
  {
   "cell_type": "code",
   "execution_count": null,
   "id": "796354e1-cfb2-46e5-9e61-eb03198b8a4a",
   "metadata": {},
   "outputs": [],
   "source": []
  }
 ],
 "metadata": {
  "kernelspec": {
   "display_name": "Python 3 (ipykernel)",
   "language": "python",
   "name": "python3"
  },
  "language_info": {
   "codemirror_mode": {
    "name": "ipython",
    "version": 3
   },
   "file_extension": ".py",
   "mimetype": "text/x-python",
   "name": "python",
   "nbconvert_exporter": "python",
   "pygments_lexer": "ipython3",
   "version": "3.12.7"
  }
 },
 "nbformat": 4,
 "nbformat_minor": 5
}
