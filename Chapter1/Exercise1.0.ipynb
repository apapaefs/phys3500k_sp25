{
 "cells": [
  {
   "cell_type": "markdown",
   "id": "1e0f9736-b3a0-440a-aa31-6d53e443e981",
   "metadata": {},
   "source": [
    "# Exercise 0: Warmup Exercise, Calculate the Area of a Circle\n",
    "\n",
    "Write a Python code that calculates the area of a circle of radius R, where R is provided as input by the user. \n",
    "\n",
    "Use matplotlib to draw a circle of radius $R$ using the equation for a circle: $x^2 + y^2 = R^2$."
   ]
  },
  {
   "cell_type": "code",
   "execution_count": null,
   "id": "0de33e34-4205-443e-bff6-3f7830372914",
   "metadata": {},
   "outputs": [],
   "source": []
  }
 ],
 "metadata": {
  "kernelspec": {
   "display_name": "Python 3 (ipykernel)",
   "language": "python",
   "name": "python3"
  },
  "language_info": {
   "codemirror_mode": {
    "name": "ipython",
    "version": 3
   },
   "file_extension": ".py",
   "mimetype": "text/x-python",
   "name": "python",
   "nbconvert_exporter": "python",
   "pygments_lexer": "ipython3",
   "version": "3.12.7"
  }
 },
 "nbformat": 4,
 "nbformat_minor": 5
}
