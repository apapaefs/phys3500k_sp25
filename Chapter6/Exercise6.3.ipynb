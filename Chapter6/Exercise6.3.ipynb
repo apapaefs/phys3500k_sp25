{
 "cells": [
  {
   "cell_type": "markdown",
   "id": "b32cbd02-2298-43cb-add1-6243d2e8b6e9",
   "metadata": {},
   "source": [
    "# Exercise 6.3: Nonlinear fitting of the resonant scattering of neutron from a nucleus. \n",
    "\n",
    "(a) Perform a $\\chi^2$ fit of the neutron scattering data via $N$-dimensional Newton-Raphson searching, using the equations obtained through the minimization of $\\chi^2$. Assume that the absolute error ($\\sigma_i$) is equal for all data points.\n",
    "\n",
    "(b) By considering that a statistically-correct $\\chi^2_\\mathrm{min} \\sim N_\\mathrm{dof} = 9-3$ (i.e. that the number of degrees of freedom corresponds to the number of data points being fitted minus the number of parameters in the model), find a reasonable estimate for the magnitude of the error.\n",
    "\n",
    "(c) Graph the data and your fit. \n",
    "\n",
    "Use the following data:\n",
    "\n",
    "| Energy (MeV) | Cross Section (mb)| \n",
    "| ------------ | ----------------- |\n",
    "| 0 | 10.6 | \n",
    "| 25 | 16.0 | \n",
    "| 50 | 45.0 |\n",
    "| 75 | 83.5 | \n",
    "| 100 | 52.8 | \n",
    "| 125 | 19.9 | \n",
    "| 150 | 10.8 | \n",
    "| 175 | 8.25 | \n",
    "| 200 | 4.7 | \n",
    "\n",
    "and the theoretical function $f(E) = \\frac{ f_r } { (E-E_r)^2 + \\Gamma^2/4 }$.\n",
    "\n",
    "For initial guesses, look at a graph of the data points and consider that: \n",
    "\n",
    "At the peak, $f = a_1 / a_3$, $a_3 = \\Gamma_2^2 / 4$, where $\\Gamma$ is the full-width of the peak at half-maximum and $x = a_2$ is the position of the peak.\n",
    "\n",
    "BONUS 10%: \n",
    "\n",
    "(d) Use SciPy's ```optimize.curve_fit``` to do the fit. Compare SciPy's results to the ones you obtained. See https://docs.scipy.org/doc/scipy/reference/generated/scipy.optimize.curve_fit.html"
   ]
  },
  {
   "cell_type": "code",
   "execution_count": null,
   "id": "07fcc23f-bc69-463f-a429-7df8fd2ccfdd",
   "metadata": {},
   "outputs": [],
   "source": []
  }
 ],
 "metadata": {
  "kernelspec": {
   "display_name": "Python 3 (ipykernel)",
   "language": "python",
   "name": "python3"
  },
  "language_info": {
   "codemirror_mode": {
    "name": "ipython",
    "version": 3
   },
   "file_extension": ".py",
   "mimetype": "text/x-python",
   "name": "python",
   "nbconvert_exporter": "python",
   "pygments_lexer": "ipython3",
   "version": "3.12.2"
  }
 },
 "nbformat": 4,
 "nbformat_minor": 5
}
