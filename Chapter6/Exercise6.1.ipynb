{
 "cells": [
  {
   "cell_type": "markdown",
   "id": "26dc77fa-41f4-4167-9fcd-849952ccf90f",
   "metadata": {},
   "source": [
    "# Exercise 6.1: Solutions to transcendental equations - Exercise 1.2 continued!\n",
    "\n",
    "This is a continuation of Exercise 1.2, where you were asked to graph the right- and left-hand side of the odd/even solutions to the transcendetal equations that appear in the 1-D finite square well:\n",
    "\n",
    "The two *transcendental* equations that you were asked to graph were:\n",
    "\n",
    "$$\n",
    "\\tan(z) = \\sqrt{ \\frac{z_0^2}{z^2} - 1}~~~~\\text{(even wave functions)}\n",
    "$$\n",
    "\n",
    "$$\n",
    "-\\cot(z) = \\sqrt{ \\frac{z_0^2}{z^2} - 1}~~~~\\text{(odd wave functions)}\n",
    "$$\n",
    "\n",
    "You may use your own solution of Exercise 1.2 or the posted solution as a basis to this problem. \n",
    "\n",
    "Use your graph to *calculate and plot* the solutions to the above transcendetal equations for: $z_0 = 1, 8, 16$. \n",
    "\n",
    "You may use either the bisection method or the Newton-Raphson method (or both!) to find the solutions. *Do not use the builtin Python functions!*\n"
   ]
  },
  {
   "cell_type": "code",
   "execution_count": null,
   "id": "ddb58cfe-07a3-4838-b658-2c5c88c515d2",
   "metadata": {},
   "outputs": [],
   "source": []
  }
 ],
 "metadata": {
  "kernelspec": {
   "display_name": "Python 3 (ipykernel)",
   "language": "python",
   "name": "python3"
  },
  "language_info": {
   "codemirror_mode": {
    "name": "ipython",
    "version": 3
   },
   "file_extension": ".py",
   "mimetype": "text/x-python",
   "name": "python",
   "nbconvert_exporter": "python",
   "pygments_lexer": "ipython3",
   "version": "3.11.7"
  }
 },
 "nbformat": 4,
 "nbformat_minor": 5
}
