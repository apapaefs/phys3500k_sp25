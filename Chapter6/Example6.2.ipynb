{
 "cells": [
  {
   "cell_type": "markdown",
   "id": "72c4deda-36b5-407a-b6bb-5177d45e564e",
   "metadata": {},
   "source": [
    "### Example 6.2: Newton-Raphson applied to the Temperature Dependence of Magnetization. \n",
    "\n",
    "Implement the Newton-Raphson search algorithm to find the root of the Transcendental equation given in Example 6.1 for $t=0.5$ and a precision of $\\mathcal{O}(10^{-10})$. Use a central-difference derivative while implementing the algorithm and print the number of iterations."
   ]
  },
  {
   "cell_type": "code",
   "execution_count": 1,
   "id": "622589ce-7889-44d7-aaeb-06b9e3d4fc14",
   "metadata": {},
   "outputs": [],
   "source": [
    "# Start by defining the function, in the form f(m) = 0:\n",
    "import numpy as np\n",
    "import math\n",
    "\n",
    "def f(m,t):\n",
    "    \"\"\"Transcendental equation for the reduced magnetization at reduced temperature t\"\"\"\n",
    "    return np.tanh(m/t) - m"
   ]
  },
  {
   "cell_type": "code",
   "execution_count": 23,
   "id": "e1bb7aca-1e33-4d7d-9ea1-a27402c241b1",
   "metadata": {},
   "outputs": [],
   "source": [
    "# The Newton-Raphson algorithm: \n",
    "# func should be a function for which we are trying to find the solution, in the form f(x)=0\n",
    "# x0 is the initial guess\n",
    "# Nmax is the number of evaluations\n",
    "# prec is the required precision\n",
    "# dx is the distance over which to take the central-difference derivative (not the same as the step size!)\n",
    "def NewtonRaphson(func, x0, Nmax, prec, dx): \n",
    "    \"\"\"Function that implements the Newton-Raphson algorithm for root finding\"\"\"\n",
    "    n = 0 # the number of steps taken\n",
    "    val = 1E99 # the value of the equation, initialize to a large number\n",
    "    root = math.nan # initialize the root to \"not a number\"\n",
    "    while abs(val) > prec and n < Nmax: # loop terminates either when the max number of evals is reached or the precision is reached\n",
    "        # get the central-difference derivative at x0:\n",
    "        CD = (func(x0+dx/2) - func(x0-dx/2))/dx\n",
    "        # calculate the step Dx (not the same as dx!)\n",
    "        Dx = - func(x0)/CD\n",
    "        # update the guess and the value of the equation:\n",
    "        x0 = x0 + Dx\n",
    "        val = func(x0)\n",
    "        n = n + 1\n",
    "    if n > Nmax-1:\n",
    "        print(\"Warning: maximum number of evaluations exceeded:\", Nmax)\n",
    "    root = x0\n",
    "    return root, n"
   ]
  },
  {
   "cell_type": "code",
   "execution_count": 30,
   "id": "7c21893f-21be-424c-b845-3b7e5f2ac1a5",
   "metadata": {},
   "outputs": [
    {
     "name": "stdout",
     "output_type": "stream",
     "text": [
      "Root for t=0.5 using Newton-Raphson: 0.9575040240773355 after 4 iterations\n"
     ]
    }
   ],
   "source": [
    "# let's try it out on the function with t=0.5\n",
    "# we can use a partial function to fix the parameter:\n",
    "# See chapter 4 for more details\n",
    "from functools import partial # partial functions allow us to fix a certain number of arguments of a function and generate a new function.\n",
    "ft05 = partial(f, t=0.5) # this has created a new function with the parameter t fixed\n",
    "\n",
    "# launch the Newton-Raphson searching for x0=0.75 for a precision of 1E-6 and 1000 maximum evals:\n",
    "maxiterations = 20\n",
    "x0 = 0.75\n",
    "precision = 1E-10\n",
    "dx = 1E-10 # this is close to a \"best value\" for the central difference\n",
    "m05_NR, niter = NewtonRaphson(ft05, x0, maxiterations, precision, dx)\n",
    "\n",
    "print(\"Root for t=0.5 using Newton-Raphson:\", m05_NR, 'after', niter,'iterations')\n"
   ]
  },
  {
   "cell_type": "code",
   "execution_count": null,
   "id": "bfc81911-8c09-4eca-99a8-ed26921927dd",
   "metadata": {},
   "outputs": [],
   "source": []
  }
 ],
 "metadata": {
  "kernelspec": {
   "display_name": "Python 3 (ipykernel)",
   "language": "python",
   "name": "python3"
  },
  "language_info": {
   "codemirror_mode": {
    "name": "ipython",
    "version": 3
   },
   "file_extension": ".py",
   "mimetype": "text/x-python",
   "name": "python",
   "nbconvert_exporter": "python",
   "pygments_lexer": "ipython3",
   "version": "3.11.11"
  }
 },
 "nbformat": 4,
 "nbformat_minor": 5
}
