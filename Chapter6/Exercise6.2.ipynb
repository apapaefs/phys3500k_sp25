{
 "cells": [
  {
   "cell_type": "markdown",
   "id": "e48000a4-bfb2-4f29-b9ad-07f9c8084759",
   "metadata": {},
   "source": [
    "# Exercise 6.2: Two masses connected by strings. \n",
    "\n",
    "Two masses 1 and 2, of  weights $W_1, W_2$, respectively, are hung from three pieces of string with lengths $L_1, L_2, L_3$ and a horizontal bar of length $L$. \n",
    "\n",
    "Using $N$-dimensional Newton-Raphson searching, find the angles $\\theta_1$, $\\theta_2$ \n",
    "and $\\theta_3$ and the tensions exerted by the strings $T_1$, $T_2$, $T_3$. \n",
    "\n",
    "Use the values: $W_1 = 10$ N, $W_2 = 20$ N, $(L_1, L_2, L_3)=(3,4,4)$ m and $L=8$ m. \n"
   ]
  },
  {
   "cell_type": "code",
   "execution_count": null,
   "id": "1718bd51-fb56-4cd0-8c2c-fa3fbe42a801",
   "metadata": {},
   "outputs": [],
   "source": []
  }
 ],
 "metadata": {
  "kernelspec": {
   "display_name": "Python 3 (ipykernel)",
   "language": "python",
   "name": "python3"
  },
  "language_info": {
   "codemirror_mode": {
    "name": "ipython",
    "version": 3
   },
   "file_extension": ".py",
   "mimetype": "text/x-python",
   "name": "python",
   "nbconvert_exporter": "python",
   "pygments_lexer": "ipython3",
   "version": "3.11.7"
  }
 },
 "nbformat": 4,
 "nbformat_minor": 5
}
