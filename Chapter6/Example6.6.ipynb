{
 "cells": [
  {
   "cell_type": "markdown",
   "id": "9c418706-4674-40d9-8c66-f4167c9b4cd8",
   "metadata": {},
   "source": [
    "# Example 6.6: Your model of some physical system results in $N=100$ coupled linear equations with $N$ unknowns: \n",
    "\n",
    "$a_{00} y_0 + a_{01} y_1 + ... + a_{0(N-1)} y_{N-1} = b_0$\n",
    "\n",
    "$a_{10} y_0 + a_{11} y_1 + ... + a_{1(N-1)} y_{N-1} = b_1$\n",
    "\n",
    "$...$\n",
    "\n",
    "$a_{(N-1)0} y_0 + a_{(N-1)1} y_1 + ... + a_{(N-1)(N-1)} y_{N-1} = b_{N-1}$\n",
    "\n",
    "In this example, take the matrix $\\mathbf{a}$ to be the Hilbert matrix (see https://en.wikipedia.org/wiki/Hilbert_matrix) and $\\mathbf{b}$ its first column:\n",
    "\n",
    "$\\mathbf{a} = \\left(\\begin{array}{c} \n",
    "1 & \\frac{1}{2} & \\frac{1}{3} & \\frac{1}{4} & ... & \\frac{1}{100}  \\\\\n",
    "\\frac{1}{2} & \\frac{1}{3} & \\frac{1}{4} & \\frac{1}{5} & ... & \\frac{1}{101} \\\\\n",
    "\\ddots & \\ddots & \\ddots & \\ddots &  \\ddots & \\ddots \\\\\n",
    "\\frac{1}{100} & \\frac{1}{101} & \\frac{1}{102} & ... & ... & \\frac{1}{199}\n",
    "\\end{array}\\right)$\n",
    "\n",
    "or $a_{ij} = \\frac{1}{i+j - 1}$.\n",
    "\n",
    "and $\\vec{b} = \\left(\\begin{array}{c}\n",
    "1 \\\\\n",
    "\\frac{1}{2}\\\\\n",
    "\\frac{1}{3}\\\\\n",
    "\\ddots\\\\\n",
    "\\frac{1}{100}\\end{array}\\right)\n",
    "$\n",
    "\n",
    "Solve the matrix equation, $\\mathbf{a} \\vec{y} = \\vec{b}$ numerically, and compare to the analytic solution:\n",
    "$\\vec{y} = \\left(\\begin{array}{c}\n",
    "1 \\\\\n",
    "0\\\\\n",
    "\\ddots\\\\\n",
    "0\\\\\n",
    "\\end{array}\\right)\n",
    "$\n"
   ]
  },
  {
   "cell_type": "markdown",
   "id": "f821e888-6a3d-4f6b-ab59-4075acda3eb9",
   "metadata": {},
   "source": [
    "Solution: \n",
    "\n",
    "Let's first construct the 100x100 and 100x1 matrices and then use NumPy's ```linalg``` to get the result!"
   ]
  },
  {
   "cell_type": "code",
   "execution_count": 15,
   "id": "efcb8d46-a044-4b7c-be10-f2284993d0df",
   "metadata": {},
   "outputs": [
    {
     "name": "stdout",
     "output_type": "stream",
     "text": [
      "a= [[1.         0.5        0.33333333 ... 0.01020408 0.01010101 0.01      ]\n",
      " [0.5        0.33333333 0.25       ... 0.01010101 0.01       0.00990099]\n",
      " [0.33333333 0.25       0.2        ... 0.01       0.00990099 0.00980392]\n",
      " ...\n",
      " [0.01020408 0.01010101 0.01       ... 0.00512821 0.00510204 0.00507614]\n",
      " [0.01010101 0.01       0.00990099 ... 0.00510204 0.00507614 0.00505051]\n",
      " [0.01       0.00990099 0.00980392 ... 0.00507614 0.00505051 0.00502513]]\n",
      "b= [1.         0.5        0.33333333 0.25       0.2        0.16666667\n",
      " 0.14285714 0.125      0.11111111 0.1        0.09090909 0.08333333\n",
      " 0.07692308 0.07142857 0.06666667 0.0625     0.05882353 0.05555556\n",
      " 0.05263158 0.05       0.04761905 0.04545455 0.04347826 0.04166667\n",
      " 0.04       0.03846154 0.03703704 0.03571429 0.03448276 0.03333333\n",
      " 0.03225806 0.03125    0.03030303 0.02941176 0.02857143 0.02777778\n",
      " 0.02702703 0.02631579 0.02564103 0.025      0.02439024 0.02380952\n",
      " 0.02325581 0.02272727 0.02222222 0.02173913 0.0212766  0.02083333\n",
      " 0.02040816 0.02       0.01960784 0.01923077 0.01886792 0.01851852\n",
      " 0.01818182 0.01785714 0.01754386 0.01724138 0.01694915 0.01666667\n",
      " 0.01639344 0.01612903 0.01587302 0.015625   0.01538462 0.01515152\n",
      " 0.01492537 0.01470588 0.01449275 0.01428571 0.01408451 0.01388889\n",
      " 0.01369863 0.01351351 0.01333333 0.01315789 0.01298701 0.01282051\n",
      " 0.01265823 0.0125     0.01234568 0.01219512 0.01204819 0.01190476\n",
      " 0.01176471 0.01162791 0.01149425 0.01136364 0.01123596 0.01111111\n",
      " 0.01098901 0.01086957 0.01075269 0.0106383  0.01052632 0.01041667\n",
      " 0.01030928 0.01020408 0.01010101 0.01      ]\n",
      "y= [ 1.  0.  0.  0.  0.  0.  0.  0. -0. -0. -0.  0.  0.  0. -0. -0. -0. -0.\n",
      "  0.  0.  0.  0.  0.  0.  0. -0. -0.  0.  0.  0. -0. -0. -0.  0.  0. -0.\n",
      " -0. -0. -0.  0. -0.  0. -0. -0. -0. -0. -0. -0. -0. -0. -0. -0.  0. -0.\n",
      " -0.  0.  0. -0.  0.  0.  0.  0. -0. -0.  0. -0.  0. -0.  0.  0.  0. -0.\n",
      "  0.  0. -0.  0. -0.  0. -0.  0. -0. -0. -0.  0.  0.  0. -0.  0.  0. -0.\n",
      " -0. -0.  0. -0. -0. -0.  0.  0. -0. -0.]\n"
     ]
    }
   ],
   "source": [
    "import numpy as np\n",
    "from numpy import linalg\n",
    "\n",
    "# construct the 100x100 Hilbert matrix:\n",
    "# start with a 100x100 NumPy array: \n",
    "a = np.zeros((100,100))\n",
    "for i in range(100):\n",
    "    for j in range(100):\n",
    "        a[i][j] = 1/(i+j+1)\n",
    "\n",
    "# check output!\n",
    "print('a=',a)\n",
    "\n",
    "# now get the vector a as its first column: \n",
    "b = a[0][:]\n",
    "# check:\n",
    "print('b=',b)\n",
    "\n",
    "# and use linalg to get the answer!\n",
    "y = linalg.solve(a,b)\n",
    "# print: \n",
    "print('y=',y)"
   ]
  },
  {
   "cell_type": "code",
   "execution_count": null,
   "id": "0c685cfb-db5d-4906-8ac4-de4e1a45f6a5",
   "metadata": {},
   "outputs": [],
   "source": []
  }
 ],
 "metadata": {
  "kernelspec": {
   "display_name": "compphy",
   "language": "python",
   "name": "compphy"
  },
  "language_info": {
   "codemirror_mode": {
    "name": "ipython",
    "version": 3
   },
   "file_extension": ".py",
   "mimetype": "text/x-python",
   "name": "python",
   "nbconvert_exporter": "python",
   "pygments_lexer": "ipython3",
   "version": "3.11.11"
  }
 },
 "nbformat": 4,
 "nbformat_minor": 5
}
