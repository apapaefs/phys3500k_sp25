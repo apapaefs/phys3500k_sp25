{
 "cells": [
  {
   "cell_type": "markdown",
   "id": "22571b94-46b3-4d09-bf19-119f292f7f06",
   "metadata": {},
   "source": [
    "## Example 6.8: 2-Dimensional Newton-Raphson Warmup\n",
    "\n",
    "As a warmup towards solving Exercise 6.2, implement a 2-Dimensional Newton-Raphson method:\n",
    "\n",
    "$\\vec{f} + \\mathbf{J} \\Delta \\vec{x} = 0$ \n",
    "\n",
    "where: \n",
    "\n",
    "$\\vec{f} = \\left(\\begin{array}{c} \n",
    "f_{1}  \\\\\n",
    "f_{2}  \\\\\n",
    "\\end{array}\\right)$, $\\Delta \\vec{x} = \\left(\\begin{array}{c} \n",
    "\\Delta x_{1}  \\\\\n",
    "\\Delta x_{2}  \\\\\n",
    "\\end{array}\\right)$, $\\mathbf{J} = \\left(\\begin{array}{cccc} \n",
    "\\frac{ \\partial f_1 }{ \\partial x_1 } & \\frac{ \\partial f_1 }{ \\partial x_2 }\\\\\n",
    "\\frac{ \\partial f_2 }{ \\partial x_1 } & \\frac{ \\partial f_2 }{ \\partial x_2 } \n",
    "\\end{array}\\right)$,\n",
    "\n",
    "and solve via:  \n",
    "\n",
    "$\\mathbf{J} \\Delta \\vec{x} = -\\vec{f}$.\n",
    "\n",
    "using the ```linalg``` package.\n",
    "\n",
    "You will need to: \n",
    "\n",
    "- Create a function that calculates the partial derivatives that enter the Jacobian, $\\frac{ \\partial f_i }{ \\partial x_j }$. You may use the central-difference derivative.\n",
    "- Create a function that calculates the actual Jacobian matrix, calling the aforementioned function.\n",
    "- Create a function that returns the vector of functions $\\vec{f}$.\n",
    "- Use $\\mathbf{J}$ and $-\\vec{f}$ to solve the system iteratively for $\\Delta \\vec{x}$, adding it to $\\vec{x}$, until a solution is reached, i.e. $|f_i| \\sim 0$ within the required precision. \n",
    "\n",
    "(a) Check your Jacobian with the *linear* system:\n",
    "\n",
    "$2 x + y - 13 = 0$\n",
    "\n",
    "$x + y - 9 = 0$\n",
    "\n",
    "(b) Use your code for the 2-D Newton Raphson to solve the linear system above. \n",
    "\n",
    "(c) Use your code to solve the nonlinear system:\n",
    "\n",
    "$x^2 + y - 21 = 0$\n",
    "\n",
    "$x + y^2 - 29 = 0$\n",
    "\n",
    "Verify that your solutions correspond to the expected ones ($ x = 4, y = 5$).\n",
    "\n",
    "(d) Use your code to solve the system:\n",
    "\n",
    "$xe^y = 1$\n",
    "\n",
    "$-x^2 + y = 1$"
   ]
  },
  {
   "cell_type": "code",
   "execution_count": 34,
   "id": "92a76588-2564-4efe-ab58-7435a91bc6be",
   "metadata": {},
   "outputs": [],
   "source": [
    "import numpy as np\n",
    "from numpy import linalg\n",
    "# modify from Chapter 4: \n",
    "# define a function for the central-difference derivative.\n",
    "# x is now a NumPy array\n",
    "# i is the component of the function (f_i) to be differentiated\n",
    "# j is the component of the vector x to differentiate by (x_j)\n",
    "def dfdt_CD_ND(funcvector, i, j, x, h): \n",
    "    \"\"\"Calculates the central-difference partial derivative of a function func at vector x, in the j-th direction, with step size dx\"\"\"\n",
    "    N = len(x) # get the length of the input array\n",
    "    # increment only the j-th element by an amount dx\n",
    "    dx = np.zeros(N) \n",
    "    dx[j] = h \n",
    "    return (funcvector(x+dx/2)[i] - funcvector(x-dx/2)[i])/h"
   ]
  },
  {
   "cell_type": "code",
   "execution_count": 42,
   "id": "1453668f-a40c-4e45-aff3-18415c144a4b",
   "metadata": {},
   "outputs": [],
   "source": [
    "# A higher-order function that calculates the Jacobian matrix for the N-dimensional vector of functions f_i:\n",
    "# we will use a central-difference approximation to the derivatives, and a parameter h = 1E-5 for all directions \n",
    "def Jacobian(funcvector, x, h): # the input should be a NumPy array of functions, each of which is a function of N variables (x_i)\n",
    "    \"\"\"Calculate the Jacobian of the function vector as an NxN matrix using the central-difference approximation to the derivatives\"\"\"\n",
    "    N = len(funcvector(x)) # get the number of dimensions\n",
    "    output = np.zeros((N,N)) #  the output is an NxN NumPy array\n",
    "    for i in range(N): # loop over the functions f_i\n",
    "        for j in range(N): # loop over variables x_j:\n",
    "            dfi_dxj = dfdt_CD_ND(funcvector, i,j,x,h)\n",
    "            output[i][j] = dfi_dxj[0] # set this to the correct element of the Jacobian   \n",
    "    return output "
   ]
  },
  {
   "cell_type": "code",
   "execution_count": 44,
   "id": "25180319-c746-41b7-a8dc-6b0f69227f93",
   "metadata": {},
   "outputs": [
    {
     "name": "stdout",
     "output_type": "stream",
     "text": [
      "[[2. 1.]\n",
      " [1. 1.]]\n"
     ]
    }
   ],
   "source": [
    "# (a) CHECK Jacobian with linear functions:\n",
    "def fi_check_linear(x):\n",
    "    funcmatrix = np.array([[2*x[0] + x[1] - 13], [ x[0] + x[1] - 9 ]])\n",
    "    return funcmatrix\n",
    "\n",
    "# Perform check:\n",
    "h=1E-5 # step length for derivatives\n",
    "x0 = [1, 2] # point for evaluation derivatives (this will be irrelevant since the functions are linear)\n",
    "print(Jacobian(fi_check_linear, x0, h))"
   ]
  },
  {
   "cell_type": "code",
   "execution_count": 46,
   "id": "7ad6e092-962a-4c84-b71f-e8847d46cfc1",
   "metadata": {},
   "outputs": [],
   "source": [
    "import numpy as np\n",
    "from numpy import linalg \n",
    "\n",
    "# The N-D Newton-Raphson algorithm: \n",
    "# x0 is the initial guess, it should have the same dimensions as the number of variables! \n",
    "# Nmax is the number of evaluations\n",
    "# prec is the required precision\n",
    "# dx is the distance over which to take the central-difference derivative (not the same as the step size!)\n",
    "def NewtonRaphsonND(func, x0, Nmax, prec, h): \n",
    "    \"\"\"Function that implements the N-Dimensional Newton-Raphson algorithm for root finding\"\"\"\n",
    "    # perform check that the number of dimensions is the same for the function and variables\n",
    "    N = len(func(x0)) # get the number of dimensions\n",
    "    if N != len(x0):\n",
    "         raise Exception(\"The length of the function vector is not the same as the number of unknowns\")\n",
    "    n = 0 # the number of steps taken\n",
    "    val = 1E99*np.ones(N) # the value of the equations, initialize to a large number\n",
    "    roots = np.nan*np.ones(N) # initialize the roots to \"not a number\"\n",
    "    for nn in range(Nmax): # loop runs up to the max number of evals, or up to the point where the precision is reached\n",
    "        # get the values of the function at x0:\n",
    "        minus_f = -func(x0)\n",
    "        # check whether the required precision has been reached for *each* value:\n",
    "        if np.all(np.abs(minus_f) < prec):\n",
    "            n = nn # save the number of steps taken \n",
    "            print('Newton-Raphson Precision reached! Exiting')\n",
    "            break # exit the loop nn\n",
    "        # Get the Jacobian (J):\n",
    "        J = Jacobian(func, x0, h)\n",
    "        # calculate the step vector Dx using linear algebra (see Chapter 6, \"NumPy's linalg Package\" section)\n",
    "        Dx = linalg.solve(J, minus_f).reshape(N) # turn this into the right shape (column vector)\n",
    "        # update the guess and the value of the equation:\n",
    "        x0 = np.add(x0, Dx)\n",
    "    roots = x0\n",
    "    return roots, n"
   ]
  },
  {
   "cell_type": "code",
   "execution_count": 49,
   "id": "60a7b09f-5067-4ead-91a2-0a6b31cac8df",
   "metadata": {},
   "outputs": [
    {
     "name": "stdout",
     "output_type": "stream",
     "text": [
      "[[2. 1.]\n",
      " [1. 4.]]\n"
     ]
    }
   ],
   "source": [
    "# CHECK Jacobian with non-linear functions:\n",
    "def fi_check_nonlinear(x):\n",
    "    funcmatrix = np.array([[x[0]**2 + x[1] - 21], [ x[0] + x[1]**2 - 29 ]])\n",
    "    return funcmatrix\n",
    "\n",
    "# Perform check:\n",
    "h=1E-5 # step length for derivatives\n",
    "x0 = [1, 2] # point for evaluation derivatives\n",
    "print(Jacobian(fi_check_nonlinear, x0, h))"
   ]
  },
  {
   "cell_type": "code",
   "execution_count": 52,
   "id": "ff6f2fa2-f04d-4333-809d-2d4bc4dc6a09",
   "metadata": {},
   "outputs": [
    {
     "name": "stdout",
     "output_type": "stream",
     "text": [
      "Newton-Raphson Precision reached! Exiting\n",
      "The roots of the linear equations are= [4. 5.]\n",
      "Newton-Raphson Precision reached! Exiting\n",
      "The roots of the non-linear equations are= [4.00000012 4.99999999]\n"
     ]
    }
   ],
   "source": [
    "# (b) CHECK the linear function: \n",
    "Nmax = 1000\n",
    "prec = 1E-6\n",
    "h = 1E-5\n",
    "x0 = np.array([0,0])\n",
    "roots, niterations = NewtonRaphsonND(fi_check_linear, x0, Nmax, prec, h)\n",
    "print('The roots of the linear equations are=', roots)\n",
    "\n",
    "# (c) CHECK the non-linear function:\n",
    "roots, niterations = NewtonRaphsonND(fi_check_nonlinear, x0, Nmax, prec, h)\n",
    "print('The roots of the non-linear equations are=', roots)"
   ]
  },
  {
   "cell_type": "code",
   "execution_count": 54,
   "id": "0207bd83-ebf6-4702-a738-4892781eeef0",
   "metadata": {},
   "outputs": [
    {
     "name": "stdout",
     "output_type": "stream",
     "text": [
      "Newton-Raphson Precision reached! Exiting\n",
      "The roots of the non-linear equations are= [0.32993571 1.10885752]\n"
     ]
    }
   ],
   "source": [
    "# (d) solve the last nonlinear system:\n",
    "def fi_check_nonlinear2(x):\n",
    "    funcmatrix = np.array([[x[0] * np.exp(x[1]) - 1], [ -x[0]**2 + x[1] - 1]])\n",
    "    return funcmatrix\n",
    "\n",
    "# (c) CHECK the non-linear function:\n",
    "roots, niterations = NewtonRaphsonND(fi_check_nonlinear2, x0, Nmax, prec, h)\n",
    "print('The roots of the non-linear equations are=', roots)\n"
   ]
  },
  {
   "cell_type": "code",
   "execution_count": null,
   "id": "0f856f39-0a40-4f5d-8bc9-3a67c0659937",
   "metadata": {},
   "outputs": [],
   "source": []
  }
 ],
 "metadata": {
  "kernelspec": {
   "display_name": "Python 3 (ipykernel)",
   "language": "python",
   "name": "python3"
  },
  "language_info": {
   "codemirror_mode": {
    "name": "ipython",
    "version": 3
   },
   "file_extension": ".py",
   "mimetype": "text/x-python",
   "name": "python",
   "nbconvert_exporter": "python",
   "pygments_lexer": "ipython3",
   "version": "3.12.2"
  }
 },
 "nbformat": 4,
 "nbformat_minor": 5
}
