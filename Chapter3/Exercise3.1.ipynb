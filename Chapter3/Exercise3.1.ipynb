{
 "cells": [
  {
   "cell_type": "markdown",
   "id": "9c0dd737-6562-428f-a786-729773ba001f",
   "metadata": {},
   "source": [
    "# Exercise 3.1: Diffusion, Entropy and the Arrow of Time\n",
    "\n",
    "The goal of this exercise is to simulate (in 2D), the diffusion of a square drop of cream in a square cup of coffee via a random walk approach. \n",
    "\n",
    "You will need to consider $N$ particles executing a random walk on a 2D square lattice (sides at $x=\\pm 100$, $y=\\pm 100$), allowing multiple occupancy for a lattice site.  \n",
    "\n",
    "You should assume that there are walls at $x=\\pm 100$, $y=\\pm 100$. \n",
    "\n",
    "(a) Start by modifying the ```Walker``` class given during the lectures to only allow motion *ONLY along a 2D grid* (i.e. only integer movements are allowed on a grid). You will also need to consider the special case of reaching the walls of the cup. \n",
    "\n",
    "Create a ```position()``` function as a member of this class that tells you where the grid walker is on the 2D grid (i.e. its current coordinates). \n"
   ]
  },
  {
   "cell_type": "code",
   "execution_count": 1,
   "id": "fe1b9fa6-3697-4fc2-b9c4-be686c3aea91",
   "metadata": {},
   "outputs": [],
   "source": [
    "import random\n",
    "import math \n",
    "import numpy as np\n",
    "\n",
    "# take the Walker class and modify it to work on a grid only!\n",
    "class GridWalker:\n",
    "    \"\"\"A random walker class for walkers on a grid\"\"\"\n",
    "    # instantiations of this class are initialized with an initial position and the limits within which they will be able to move\n",
    "    def __init__(self, initialx, initialy, limitx, limity):\n",
    "        # only accept positive or negative integers as initial positions for the grid walker\n",
    "        if isinstance(initialx, int) is False or isinstance(initialy, int) is False:\n",
    "            raise Exception('Wakers have to be initialized with integer positions')\n",
    "  \n",
    "\n",
    "    # now let's create a function that allows us to take random steps in a random direction on the grid:\n",
    "    def move(self):\n",
    "        pass # this means \"do nothing\". Remove this when implemented!\n",
    "        \n",
    "    # get the current position\n",
    "    def position(self):\n",
    "        pass # this means \"do nothing\". Remove this when implemented!\n",
    "\n",
    "\n"
   ]
  },
  {
   "cell_type": "code",
   "execution_count": 5,
   "id": "f923696f-7e70-4d57-9c4b-2aee4bcc77d0",
   "metadata": {},
   "outputs": [
    {
     "name": "stdout",
     "output_type": "stream",
     "text": [
      "None\n"
     ]
    }
   ],
   "source": [
    "# Test the GridWalker class here: \n",
    "gridWalker1 = GridWalker(0,0, 100, 100)\n",
    "gridWalker1.move()\n",
    "print(gridWalker1.position())"
   ]
  },
  {
   "cell_type": "markdown",
   "id": "b6cdfe95-8e11-406e-b9a5-d29148c67c53",
   "metadata": {},
   "source": [
    "(b) Next, use the matplotlib animation given in the lectures to construct an animation of the evolution of $N=400$ walkers for $n=10^4$ steps, initially distributed randomly within a square defined by $x=\\pm 20$ and $y=\\pm 20$. "
   ]
  },
  {
   "cell_type": "code",
   "execution_count": null,
   "id": "4d1e44cd-eb7b-4591-91e2-6f164aac4965",
   "metadata": {},
   "outputs": [],
   "source": [
    "import numpy as np\n",
    "import matplotlib.pyplot as plt\n",
    "import time # various time functions\n",
    "from tqdm import tqdm # progress bar\n",
    "import matplotlib.ticker as ticker # \n",
    "\n",
    "# use the code given in the lectures"
   ]
  },
  {
   "cell_type": "markdown",
   "id": "98dc4470-6942-44e3-a98d-6df8d1fad095",
   "metadata": {},
   "source": [
    "(c) Now write a function that calculates the *entropy* of a walker given the list of walkers, the grid size and the limits of the cup. \n",
    "\n",
    "Use the given ```logfact()``` function below to calculate logarithms of factorials. This uses Stirling's approximation where appropriate. "
   ]
  },
  {
   "cell_type": "code",
   "execution_count": 3,
   "id": "eca6b64f-ca86-4f10-beac-b26c657d82da",
   "metadata": {},
   "outputs": [],
   "source": [
    "from scipy.special import factorial\n",
    "\n",
    "# return the Log of a factorial, use Stirling's approximation if x is too large\n",
    "# taken from https://www.ippp.dur.ac.uk/~krauss/Lectures/NumericalMethods/RandomWalks/Code/Walker.py\n",
    "def logfact(x):\n",
    "    if x <= 120:\n",
    "        return np.log(factorial(x))\n",
    "    else:\n",
    "        return 0.5*np.log(2.0*np.pi*x) + x*np.log(x) - x\n",
    "\n",
    "# a function that calculates the entropy for a given Walker configuration for a given grid size\n",
    "# \"WalkerList\" is a list of Walkers\n",
    "def Entropy(WalkerList, GridSize, LimitSize):\n",
    "    pass"
   ]
  },
  {
   "cell_type": "code",
   "execution_count": 6,
   "id": "f0628371-56cd-44f4-b592-08b32276c84b",
   "metadata": {},
   "outputs": [],
   "source": [
    "# Test the entropy function here: \n",
    "gridWalkers = []\n",
    "gridWalkers.append(gridWalker1)\n",
    "Entropy(gridWalkers, 8, 100)"
   ]
  },
  {
   "cell_type": "markdown",
   "id": "484f84ab-376b-4d59-b5b9-80a8637c8946",
   "metadata": {},
   "source": [
    "(d) Perform the pseudo-experiment without visualization to calculate the entropy as a function of $N$:"
   ]
  },
  {
   "cell_type": "code",
   "execution_count": null,
   "id": "7b77e951-ef6e-4d81-94ea-31e81a1a62db",
   "metadata": {},
   "outputs": [],
   "source": [
    "import numpy as np\n",
    "import matplotlib.pyplot as plt\n",
    "import time # various time functions\n",
    "from tqdm import tqdm # progress bar\n",
    "\n"
   ]
  },
  {
   "cell_type": "markdown",
   "id": "3900056a-0b7e-4cf9-89a8-2d6bfd18f0c0",
   "metadata": {},
   "source": [
    "(e) Plot the entropy as a function of the number of steps. "
   ]
  },
  {
   "cell_type": "code",
   "execution_count": null,
   "id": "79b46219-20b7-493e-a852-242b2d81b093",
   "metadata": {},
   "outputs": [],
   "source": []
  },
  {
   "cell_type": "markdown",
   "id": "30c59b14-7489-4f37-aeb9-6237fe798be9",
   "metadata": {},
   "source": [
    "(f) BONUS 10%: Plot the density of walkers in one dimension for $N=0, 250, 1000, 20000, 10000$ steps."
   ]
  },
  {
   "cell_type": "code",
   "execution_count": null,
   "id": "692569dd-b9df-49d5-bfae-c97f0497ad44",
   "metadata": {},
   "outputs": [],
   "source": []
  }
 ],
 "metadata": {
  "kernelspec": {
   "display_name": "Python 3 (ipykernel)",
   "language": "python",
   "name": "python3"
  },
  "language_info": {
   "codemirror_mode": {
    "name": "ipython",
    "version": 3
   },
   "file_extension": ".py",
   "mimetype": "text/x-python",
   "name": "python",
   "nbconvert_exporter": "python",
   "pygments_lexer": "ipython3",
   "version": "3.9.21"
  }
 },
 "nbformat": 4,
 "nbformat_minor": 5
}
