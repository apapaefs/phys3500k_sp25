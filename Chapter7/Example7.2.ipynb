{
 "cells": [
  {
   "cell_type": "markdown",
   "id": "9c30a8d2-971e-4016-8e07-a1690636e9e0",
   "metadata": {},
   "source": [
    "### Example 7.2: Evaluation of the Integration Algorithm\n",
    "\n",
    "A simple and often stringent test of an accurate numerical integration is to use the final value of $y$ obtained as the initial condition to integrate backward from the final value of $x$ to the starting point. The extent to which the resulting value of $y$ differs from the original initial condition is then a measure of the inaccuracy. \n",
    "\n",
    "Apply this test to Example 7.1. "
   ]
  },
  {
   "cell_type": "markdown",
   "id": "3cec4d1d-10f0-4f6b-afea-e817af9d6b30",
   "metadata": {},
   "source": [
    "Solution: \n",
    "\n",
    "We begin by copying most of the code from Example 7.1. "
   ]
  },
  {
   "cell_type": "code",
   "execution_count": 18,
   "id": "eefcc969-d24a-47f0-9a71-f1ce39ccdab1",
   "metadata": {},
   "outputs": [],
   "source": [
    "# Let's write a function that recursively applies Euler's method\n",
    "# The input parameters should be the function on the right-hand side of the differential equation, which should be a function of x and y\n",
    "# the initial condition y(xinit)\n",
    "# the minimum and maximum values of x: xinit and xfinal\n",
    "# and the step size h\n",
    "# the return value should be the values of y at the various points x\n",
    "def EulerMethod(f, yinit, xinit, xfinal, h):\n",
    "    \"\"\"Function that applies Euler's method for solving an ODE\"\"\"\n",
    "    # the return lists, starting at the initial values:\n",
    "    ys = [yinit]\n",
    "    xs = [xinit]\n",
    "    # calculatee the number of steps N:\n",
    "    N = abs(int((xfinal - xinit)/h)) # convert to integer\n",
    "    for n in range(0,N):\n",
    "        # get the next value of y:\n",
    "        # MODIFICATION: np.sign(xfinal-xinit) checks if we are going forward or backward\n",
    "        ynp1 = ys[n] + np.sign(xfinal-xinit) * h * f(xs[n],ys[n])\n",
    "        # append to the arrays:\n",
    "        ys.append(ynp1)\n",
    "        xs.append(xs[n] + np.sign(xfinal-xinit) * h)\n",
    "    # return the arrays\n",
    "    return xs, ys\n",
    "\n",
    "# the RHS function:\n",
    "# should take as input x and y:\n",
    "def fexample(x,y):\n",
    "    return -x*y\n",
    "\n",
    "# the step sizes list\n",
    "harray=[0.500, 0.200, 0.100, 0.050, 0.020, 0.010, 0.005, 0.002, 0.001]\n",
    "# the initial and final points: \n",
    "xinit = 0\n",
    "xfinal = 3\n",
    "# the initial condition: \n",
    "yinit=1\n",
    "\n",
    "# calculate and then print the absolute error:\n",
    "# put the xs and ys in arrays so we can plot them later\n",
    "xsharray = []\n",
    "ysharray = []\n",
    "for h in harray:\n",
    "    xsh, ysh = EulerMethod(fexample, yinit, xinit, xfinal, h)\n",
    "    # put them into arrays to avoid computing again\n",
    "    xsharray.append(xsh)\n",
    "    ysharray.append(ysh)"
   ]
  },
  {
   "cell_type": "markdown",
   "id": "a43b966a-2fb9-433a-8090-7dc08d1abdfc",
   "metadata": {},
   "source": [
    "We now wish to evolve backwards from the last point of each of the solutions and check whether we reproduce the initial condition. "
   ]
  },
  {
   "cell_type": "code",
   "execution_count": 19,
   "id": "a6174098-dbcd-4519-8ffb-9f9e06e34037",
   "metadata": {},
   "outputs": [
    {
     "name": "stdout",
     "output_type": "stream",
     "text": [
      "final value of the function = 0.0\n",
      "h= 0.5 Initial condition from backward recursion= 0.0\n",
      "final value of the function = 0.004589681151998823\n",
      "h= 0.2 Initial condition from backward recursion= 0.2592279199718604\n",
      "final value of the function = 0.007791097137057795\n",
      "h= 0.1 Initial condition from backward recursion= 0.5398686644278935\n",
      "final value of the function = 0.009444324775986137\n",
      "h= 0.05 Initial condition from backward recursion= 0.739342515108976\n",
      "final value of the function = 0.010442558199326596\n",
      "h= 0.02 Initial condition from backward recursion= 0.8868081663574615\n",
      "final value of the function = 0.010775739089876913\n",
      "h= 0.01 Initial condition from backward recursion= 0.9417496481651022\n",
      "final value of the function = 0.010942363131806902\n",
      "h= 0.005 Initial condition from backward recursion= 0.9704436167384834\n",
      "final value of the function = 0.011042342657133481\n",
      "h= 0.002 Initial condition from backward recursion= 0.9880715879680981\n",
      "final value of the function = 0.01107566956087244\n",
      "h= 0.001 Initial condition from backward recursion= 0.9940179483490461\n"
     ]
    }
   ],
   "source": [
    "# the step sizes list\n",
    "harray=[0.500, 0.200, 0.100, 0.050, 0.020, 0.010, 0.005, 0.002, 0.001]\n",
    "# FLIP initial and final points:\n",
    "# i.e. g\n",
    "xinit = 0\n",
    "xfinal = 3\n",
    "# the initial condition in each case will now be the final number of the corresponding ysh array above\n",
    "for j,h in enumerate(harray):\n",
    "    yfinal=ysharray[j][-1]\n",
    "    print('final value of the function =', yfinal)\n",
    "    # move backwards:\n",
    "    xshtest, yshtest = EulerMethod(fexample, yfinal, xfinal, xinit, h)\n",
    "    # print the initial condition:\n",
    "    print('h=', h, 'Initial condition from backward recursion=',yshtest[-1])"
   ]
  },
  {
   "cell_type": "code",
   "execution_count": null,
   "id": "73011f81-a0a3-4994-868e-da847925d1f9",
   "metadata": {},
   "outputs": [],
   "source": []
  }
 ],
 "metadata": {
  "kernelspec": {
   "display_name": "Python 3 (ipykernel)",
   "language": "python",
   "name": "python3"
  },
  "language_info": {
   "codemirror_mode": {
    "name": "ipython",
    "version": 3
   },
   "file_extension": ".py",
   "mimetype": "text/x-python",
   "name": "python",
   "nbconvert_exporter": "python",
   "pygments_lexer": "ipython3",
   "version": "3.12.2"
  }
 },
 "nbformat": 4,
 "nbformat_minor": 5
}
