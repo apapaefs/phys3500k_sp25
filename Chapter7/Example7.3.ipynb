{
 "cells": [
  {
   "cell_type": "markdown",
   "id": "6e84ac5f-3609-47bb-85e5-0e643e782547",
   "metadata": {},
   "source": [
    "### Example 7.3: Try out the second- and fourth-order Runge-Kutta methods on the problem defined in Example 7.1.\n",
    "\n",
    "Compare the computational effort for a given accuracy between the methods. "
   ]
  },
  {
   "cell_type": "markdown",
   "id": "b9308d6f-b12a-47b9-a9d4-959bc306d852",
   "metadata": {},
   "source": [
    "Solution:\n",
    "\n",
    "Let's begin once again by copying the code for Euler's method, in order to be able to perform a comparison. "
   ]
  },
  {
   "cell_type": "code",
   "execution_count": 28,
   "id": "7a05062f-e0dd-4105-8413-be5b652f5895",
   "metadata": {},
   "outputs": [
    {
     "name": "stdout",
     "output_type": "stream",
     "text": [
      "h= 0.5 Absolute Error at y(1)= 0.14346934028736658\n",
      "h= 0.5 Absolute Error at y(3)= 0.011108996538242306\n",
      "h= 0.2 Absolute Error at y(1)= 0.04633078028736648\n",
      "h= 0.2 Absolute Error at y(3)= 0.006519315386243483\n",
      "h= 0.1 Absolute Error at y(1)= 0.02162584984266136\n",
      "h= 0.1 Absolute Error at y(3)= 0.003317899401184511\n",
      "h= 0.05 Absolute Error at y(1)= 0.010453177958645754\n",
      "h= 0.05 Absolute Error at y(3)= 0.0016646717622561692\n",
      "h= 0.02 Absolute Error at y(1)= 0.004097917030359999\n",
      "h= 0.02 Absolute Error at y(3)= 0.0006664383389157098\n",
      "h= 0.01 Absolute Error at y(1)= 0.0020353052446446807\n",
      "h= 0.01 Absolute Error at y(3)= 0.0003332574483653934\n",
      "h= 0.005 Absolute Error at y(1)= 0.0010142612712193966\n",
      "h= 0.005 Absolute Error at y(3)= 0.0001666334064354038\n",
      "h= 0.002 Absolute Error at y(1)= 0.0004048933731869431\n",
      "h= 0.002 Absolute Error at y(3)= 6.665388110882464e-05\n",
      "h= 0.001 Absolute Error at y(1)= 0.00020231172884621618\n",
      "h= 0.001 Absolute Error at y(3)= 3.3326977369865785e-05\n"
     ]
    }
   ],
   "source": [
    "import numpy as np\n",
    "\n",
    "# Let's write a function that recursively applies Euler's method\n",
    "# The input parameters should be the function on the right-hand side of the differential equation, which should be a function of x and y\n",
    "# the initial condition y(xinit)\n",
    "# the minimum and maximum values of x: xinit and xfinal\n",
    "# and the step size h\n",
    "# the return value should be the values of y at the various points x\n",
    "def EulerMethod(f, yinit, xinit, xfinal, h):\n",
    "    \"\"\"Function that applies Euler's method for solving an ODE\"\"\"\n",
    "    # the return lists, starting at the initial values:\n",
    "    ys = [yinit]\n",
    "    xs = [xinit]\n",
    "    # calculatee the number of steps N:\n",
    "    N = abs(int((xfinal - xinit)/h)) # convert to integer\n",
    "    for n in range(0,N):\n",
    "        # get the next value of y:\n",
    "        # MODIFICATION: np.sign(xfinal-xinit) checks if we are going forward or backward\n",
    "        ynp1 = ys[n] + np.sign(xfinal-xinit) * h * f(xs[n],ys[n])\n",
    "        # append to the arrays:\n",
    "        ys.append(ynp1)\n",
    "        xs.append(xs[n] + np.sign(xfinal-xinit) * h)\n",
    "    # return the arrays\n",
    "    return xs, ys\n",
    "\n",
    "# the RHS function:\n",
    "# should take as input x and y:\n",
    "def fexample(x,y):\n",
    "    return -x*y\n",
    "\n",
    "# the step sizes list\n",
    "harray=[0.500, 0.200, 0.100, 0.050, 0.020, 0.010, 0.005, 0.002, 0.001]\n",
    "# the initial and final points: \n",
    "x1 = 0\n",
    "x2 = 3\n",
    "# the initial condition: \n",
    "y0=1\n",
    "\n",
    "# calculate and then print the absolute error:\n",
    "print('Euler Method:')\n",
    "for h in harray:\n",
    "    xsh, ysh = EulerMethod(fexample, y0, x1, x2, h)\n",
    "    # use comprehension to convert the arrays into dictionaries\n",
    "    res = {xsh[i]: ysh[i] for i in range(len(xsh))}\n",
    "    print('h=', h, 'Absolute Error at y(1)=',abs(np.exp(-1/2)-res[1]))\n",
    "    print('h=', h, 'Absolute Error at y(3)=',abs(np.exp(-9/2)-res[3]))"
   ]
  },
  {
   "cell_type": "markdown",
   "id": "157a2068-bbae-445b-8aa6-eafdf0db0cd1",
   "metadata": {},
   "source": [
    "And let's now implement the second- and fourth-order Runge-Kutta algorithms. "
   ]
  },
  {
   "cell_type": "code",
   "execution_count": 29,
   "id": "d106f54e-b198-49d0-aa7c-6011530ab134",
   "metadata": {},
   "outputs": [],
   "source": [
    "# the function should take the same inputs as the EulerMethod function\n",
    "def rk2(f, yinit, xinit, xfinal, h):\n",
    "    \"\"\"Integrates a first-order differential equation using second-order Runge-Kutta\"\"\"\n",
    "    # the return lists:\n",
    "    ys = [yinit]\n",
    "    xs = [xinit]\n",
    "    # number of steps N:\n",
    "    N = np.abs(int((x2 - x1)/h)) # convert to integer\n",
    "    # append the initial values:\n",
    "    ys.append(yinit)\n",
    "    xs.append(xinit)\n",
    "    for n in range(0,N):\n",
    "        xn = xs[n]\n",
    "        yn = ys[n]\n",
    "        # get the next value of y using second order Runge-Kutta\n",
    "        k1 = h * f(xn,yn)\n",
    "        ynp1 = yn + np.sign(xfinal-xinit)* h * f(xn+h/2,yn+k1/2) # MINOR MODIFICATION HERE TO TAKE INTO ACCOUNT THE DIRECTION!\n",
    "        # append to the arrays:\n",
    "        ys.append(ynp1)\n",
    "        xs.append(xn+np.sign(xfinal-xinit)*h)\n",
    "    # return the arrays\n",
    "    return xs, ys\n",
    "    "
   ]
  },
  {
   "cell_type": "code",
   "execution_count": 30,
   "id": "24e179d1-399d-4e41-bf98-c8fc5c4fc7b3",
   "metadata": {},
   "outputs": [
    {
     "name": "stdout",
     "output_type": "stream",
     "text": [
      "Second-order Runge-Kutta:\n",
      "h= 0.5 Absolute Error at y(1)= 0.018640034712633424\n",
      "h= 0.5 Absolute Error at y(1)= 0.018640034712633424\n",
      "h= 0.2 Absolute Error at y(1)= 0.0023448306226776516\n",
      "h= 0.2 Absolute Error at y(1)= 0.0023448306226776516\n",
      "h= 0.1 Absolute Error at y(1)= 0.0005432977453930787\n",
      "h= 0.1 Absolute Error at y(1)= 0.0005432977453930787\n",
      "h= 0.05 Absolute Error at y(1)= 0.0001309368815550771\n",
      "h= 0.05 Absolute Error at y(1)= 0.0001309368815550771\n",
      "h= 0.02 Absolute Error at y(1)= 2.050465571379334e-05\n",
      "h= 0.02 Absolute Error at y(1)= 2.050465571379334e-05\n",
      "h= 0.01 Absolute Error at y(1)= 5.090047752176474e-06\n",
      "h= 0.01 Absolute Error at y(1)= 5.090047752176474e-06\n",
      "h= 0.005 Absolute Error at y(1)= 1.2680434399170437e-06\n",
      "h= 0.005 Absolute Error at y(1)= 1.2680434399170437e-06\n",
      "h= 0.002 Absolute Error at y(1)= 2.0246032483850485e-07\n",
      "h= 0.002 Absolute Error at y(1)= 2.0246032483850485e-07\n",
      "h= 0.001 Absolute Error at y(1)= 5.0579627264291105e-08\n",
      "h= 0.001 Absolute Error at y(1)= 5.0579627264291105e-08\n"
     ]
    }
   ],
   "source": [
    "# the step sizes list\n",
    "harray=[0.500, 0.200, 0.100, 0.050, 0.020, 0.010, 0.005, 0.002, 0.001]\n",
    "# the initial and final points: \n",
    "xinit=0\n",
    "xfinal=3\n",
    "# the initial condition: \n",
    "yinit=1\n",
    "\n",
    "# 2nd-order Runge-Kutta:\n",
    "# calculate and then print the absolute error:\n",
    "print('Second-order Runge-Kutta:')\n",
    "for h in harray:\n",
    "    xsh, ysh = rk2(fexample, yinit, xinit, xfinal, h)\n",
    "    # loop over the current x array and find the desired values:\n",
    "    for j,x in enumerate(xsh):\n",
    "        # use np.isclose(a,b) to check if a number is close enough to our desired numbers\n",
    "        if np.isclose(x, 1):\n",
    "            print('h=', h, 'Absolute Error at y(1)=',abs(np.exp(-1/2)-ysh[j]))            \n",
    "        if np.isclose(x, 3):\n",
    "            print('h=', h, 'Absolute Error at y(3)=',abs(np.exp(-9/2)-ysh[j]))            "
   ]
  },
  {
   "cell_type": "markdown",
   "id": "71efb882-a0c4-4a68-8d14-76f65fcfaede",
   "metadata": {},
   "source": [
    "Fourth-order Runge-Kutta:"
   ]
  },
  {
   "cell_type": "code",
   "execution_count": 26,
   "id": "d3d4ffcd-a79c-4b1c-8ae5-7f02f41ece5f",
   "metadata": {},
   "outputs": [],
   "source": [
    "# the function should take the same inputs as the EulerMethod function\n",
    "def rk4(f, yinit, xinit, xfinal, h):\n",
    "    \"\"\"Integrates a first-order differential equation using second-order Runge-Kutta\"\"\"\n",
    "    # the return lists:\n",
    "    ys = [yinit]\n",
    "    xs = [xinit]\n",
    "    # number of steps N:\n",
    "    N = np.abs(int((x2 - x1)/h)) # convert to integer\n",
    "    for n in range(0,N):\n",
    "        xn = xs[n]\n",
    "        yn = ys[n]\n",
    "        # get the next value of y using second order Runge-Kutta\n",
    "        k1 = h * f(xn,yn)\n",
    "        k2 = h * f(xn+0.5*h, yn+0.5*k1)\n",
    "        k3 = h * f(xn+0.5*h, yn+0.5*k2)\n",
    "        k4 = h * f(xn+h, yn+k3)\n",
    "        ynp1 = yn + np.sign(xfinal-xinit) * (1/6)*(k1+2*k2+2*k3+k4) # MINOR MODIFICATION HERE TO TAKE INTO ACCOUNT THE DIRECTION!\n",
    "        # append to the arrays:\n",
    "        ys.append(ynp1)\n",
    "        xs.append(xn+np.sign(xfinal-xinit)*h) \n",
    "    # return the arrays\n",
    "    return xs, ys"
   ]
  },
  {
   "cell_type": "code",
   "execution_count": 31,
   "id": "9e6d6321-9ca5-474c-a1d7-fb9ba8bd056d",
   "metadata": {},
   "outputs": [
    {
     "name": "stdout",
     "output_type": "stream",
     "text": [
      "Fourth-order Runge-Kutta:\n",
      "h= 0.5 Absolute Error at y(1)= 3.6312458198128894e-05\n",
      "h= 0.5 Absolute Error at y(3)= 0.001966500803980949\n",
      "h= 0.2 Absolute Error at y(1)= 7.000948232249726e-07\n",
      "h= 0.2 Absolute Error at y(3)= 2.7068906248964644e-05\n",
      "h= 0.1 Absolute Error at y(1)= 6.668627361428037e-08\n",
      "h= 0.1 Absolute Error at y(3)= 1.3800773917497372e-06\n",
      "h= 0.05 Absolute Error at y(1)= 4.756485427748203e-09\n",
      "h= 0.05 Absolute Error at y(3)= 7.787939291549473e-08\n",
      "h= 0.02 Absolute Error at y(1)= 1.298152696449506e-10\n",
      "h= 0.02 Absolute Error at y(3)= 1.8749560012215616e-09\n",
      "h= 0.01 Absolute Error at y(1)= 8.271050511154954e-12\n",
      "h= 0.01 Absolute Error at y(3)= 1.1480814042508225e-10\n",
      "h= 0.005 Absolute Error at y(1)= 5.209166431541234e-13\n",
      "h= 0.005 Absolute Error at y(3)= 7.102787108470565e-12\n",
      "h= 0.002 Absolute Error at y(1)= 1.3655743202889425e-14\n",
      "h= 0.002 Absolute Error at y(3)= 1.8129074630390818e-13\n",
      "h= 0.001 Absolute Error at y(1)= 4.440892098500626e-16\n",
      "h= 0.001 Absolute Error at y(3)= 1.3678294608077124e-14\n"
     ]
    }
   ],
   "source": [
    "# the step sizes list\n",
    "harray=[0.500, 0.200, 0.100, 0.050, 0.020, 0.010, 0.005, 0.002, 0.001]\n",
    "# the initial and final points: \n",
    "xinit = 0\n",
    "xfinal = 3\n",
    "# the initial condition: \n",
    "yinit=1\n",
    "\n",
    "# 4th-order Runge-Kutta:\n",
    "# calculate and then print the absolute error:\n",
    "print('Fourth-order Runge-Kutta:')\n",
    "for h in harray:\n",
    "    xsh, ysh = rk4(fexample, yinit, xinit, xfinal, h)\n",
    "    # loop over the current x array and find the desired values:\n",
    "    for j,x in enumerate(xsh):\n",
    "        # use np.isclose(a,b) to check if a number is close enough to our desired numbers\n",
    "        if np.isclose(x, 1):\n",
    "            print('h=', h, 'Absolute Error at y(1)=',abs(np.exp(-1/2)-ysh[j]))            \n",
    "        if np.isclose(x, 3):\n",
    "            print('h=', h, 'Absolute Error at y(3)=',abs(np.exp(-9/2)-ysh[j]))            "
   ]
  },
  {
   "cell_type": "code",
   "execution_count": null,
   "id": "271cea57-823b-4030-a01a-112fa0a5bf61",
   "metadata": {},
   "outputs": [],
   "source": []
  },
  {
   "cell_type": "code",
   "execution_count": null,
   "id": "c2445704-62c6-4ef4-a62b-ea63bbe938bb",
   "metadata": {},
   "outputs": [],
   "source": []
  }
 ],
 "metadata": {
  "kernelspec": {
   "display_name": "Python 3 (ipykernel)",
   "language": "python",
   "name": "python3"
  },
  "language_info": {
   "codemirror_mode": {
    "name": "ipython",
    "version": 3
   },
   "file_extension": ".py",
   "mimetype": "text/x-python",
   "name": "python",
   "nbconvert_exporter": "python",
   "pygments_lexer": "ipython3",
   "version": "3.12.2"
  }
 },
 "nbformat": 4,
 "nbformat_minor": 5
}
