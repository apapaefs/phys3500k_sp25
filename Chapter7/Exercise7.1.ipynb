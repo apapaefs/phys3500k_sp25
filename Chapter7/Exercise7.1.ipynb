{
 "cells": [
  {
   "cell_type": "markdown",
   "id": "61ff4480-8e6e-4680-a170-d18f8a04ed64",
   "metadata": {},
   "source": [
    "### Exercise 7.1: Nonlinear Oscillator Models\n",
    "\n",
    "For this example, we will use our generalized ```rk4``` function from Example 7.4. \n",
    "\n",
    "Consider the restoring forces arising from both potentials:\n",
    "\n",
    "\n",
    "$F_k(x) = - kx ( 1 - \\alpha x)$,\n",
    "\n",
    "and:\n",
    "\n",
    "$F_k(x) =  - k x^{p-1}$. \n",
    "\n",
    "Consider values of $p = 6$ and one anhmaronic strength in $ 0 \\leq \\alpha  \\leq 2$. \n",
    "\n",
    "(a) Check that the solution remains periodic with constant amplitude for a given initial condition, regardless of how nonlinear you make the force. In particular, check that the maximum speed occurs at $x=0$, and that the velocity $v=0$ at the maximum $x$, the latter being a consequence of energy conservation.  \n",
    "\n",
    "(b) Verify that nonharmonic oscillators are *nonisosynchronous*, i.e. that vibrations with different amplitudes have different periods. \n",
    "\n",
    "Bonus 20%:\n",
    "\n",
    "(c) Devise an algorithm to determinet he period $T$ of the oscillation, by recording times at which the mass passes through the origin. Note that because the motion may be asymmetric, you must record at least three times to deduce the period. \n",
    "\n",
    "(d) Construct a graph of the deduced period as a function of initial amplitude. \n",
    "\n"
   ]
  }
 ],
 "metadata": {
  "kernelspec": {
   "display_name": "Python 3 (ipykernel)",
   "language": "python",
   "name": "python3"
  },
  "language_info": {
   "codemirror_mode": {
    "name": "ipython",
    "version": 3
   },
   "file_extension": ".py",
   "mimetype": "text/x-python",
   "name": "python",
   "nbconvert_exporter": "python",
   "pygments_lexer": "ipython3",
   "version": "3.12.2"
  }
 },
 "nbformat": 4,
 "nbformat_minor": 5
}
